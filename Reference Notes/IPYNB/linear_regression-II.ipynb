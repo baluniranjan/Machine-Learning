{
 "cells": [
  {
   "cell_type": "markdown",
   "metadata": {},
   "source": [
    "## Linear Regression-II\n",
    "\n",
    "----------------------------------------------------------------\n",
    "\n",
    "Author: Dr. Sampath Lonka\n",
    "\n",
    "Date: August 2, 2022\n",
    "\n",
    "----------------------------------------------------------------\n",
    "\n",
    "\n",
    "In this tutorial, we discuss the following concepts:\n",
    "\n",
    "1. Types of Data Variables\n",
    "2. Transformation of Features\n",
    "   \n",
    "   2.1 One-Hot Encoding/Ordinal Encoding\n",
    "   \n",
    "   2.2 Feature Scaling\n",
    "   \n",
    "   2.3 Transformation Pipelines\n",
    "3. Performance Measures for Regression\n",
    "4. Training through Gradient Descent \n",
    "5. Optimal Model: Subset selection (or selection of features)\n",
    "6. Optimal Model\n",
    "\n",
    "----------------------------------------------------------------\n",
    "\n",
    "\n",
    "The following topics can be discussed in the next tutorial (`linear_regression-III`).\n",
    "   1. Cross-Validation\n",
    "   2. Regularization\n",
    "   3. Fine-Tuning the model  "
   ]
  },
  {
   "cell_type": "markdown",
   "metadata": {},
   "source": [
    "### 1. Types of Features\n",
    "- Features are often classified based on the arithmetic properties they support.\n",
    "- There are two types of features: Continuous and Discrete.\n",
    "- Features which are continuous assumes any real numbers.\n",
    "- Features which are discrete takes only a particular value from the set of possible values.\n",
    "- Discrete features furthur divided into different categories: *Nominal Features*, *Ordinal Features*.\n",
    "- Nominal (data) features can take any arbitrary nonnumerical values. This kind of data can neither be measured nor compared. For instance, names, adress, gender, etc., can be consider as nominal data attributes.\n",
    "- There is no arithmetic operations can be applied on nominal data. \n",
    "- Ordinal data attributes assumes the values which has an order. For instance, T-shirt sizes (S, M, L, XL, etc.), Likert scale in customer survey (Always, Sometimes, Rarely, Never), and so on are examples of ordinal data.  \n"
   ]
  },
  {
   "cell_type": "markdown",
   "metadata": {},
   "source": [
    "### 2. Transformation\n",
    "\n",
    "- Most of the ML algorithms prefer to work with numbers.\n",
    "- Thus we need to learn different encoding techniques for Categorical features (Nominal or Ordinal) to convert from text to numbers."
   ]
  },
  {
   "cell_type": "markdown",
   "metadata": {},
   "source": [
    "#### 2.1 Transforming Nominal/Ordinal Attributes\n",
    "\n",
    "- In the attribute **Gender**, we may have three values - Male, Female, and Other.\n",
    "- This is a Nominal attribute as arithmetic operations can't applied, and we can't compute the values with each other.\n",
    "- Consider the following snippet:"
   ]
  },
  {
   "cell_type": "code",
   "execution_count": 55,
   "metadata": {},
   "outputs": [],
   "source": [
    "import pandas as pd\n",
    "df = pd.DataFrame([[\"Ramana\",\"Male\",28,\"Bachelors\"],\n",
    "[\"Arnav Sharma\",\"Male\",23,\"Masters\"],\n",
    "[\"Sourav\",\"Other\", 30,\"Doctoral\"],\n",
    "[\"Sophia\",\"Female\",19,\"High School\"]], columns=['Name','Gender','Age',\n",
    "'Degree'])\n",
    "df1 = df.copy()"
   ]
  },
  {
   "cell_type": "code",
   "execution_count": 56,
   "metadata": {},
   "outputs": [
    {
     "data": {
      "text/html": [
       "<div>\n",
       "<style scoped>\n",
       "    .dataframe tbody tr th:only-of-type {\n",
       "        vertical-align: middle;\n",
       "    }\n",
       "\n",
       "    .dataframe tbody tr th {\n",
       "        vertical-align: top;\n",
       "    }\n",
       "\n",
       "    .dataframe thead th {\n",
       "        text-align: right;\n",
       "    }\n",
       "</style>\n",
       "<table border=\"1\" class=\"dataframe\">\n",
       "  <thead>\n",
       "    <tr style=\"text-align: right;\">\n",
       "      <th></th>\n",
       "      <th>Name</th>\n",
       "      <th>Gender</th>\n",
       "      <th>Age</th>\n",
       "      <th>Degree</th>\n",
       "    </tr>\n",
       "  </thead>\n",
       "  <tbody>\n",
       "    <tr>\n",
       "      <th>0</th>\n",
       "      <td>Ramana</td>\n",
       "      <td>Male</td>\n",
       "      <td>28</td>\n",
       "      <td>Bachelors</td>\n",
       "    </tr>\n",
       "    <tr>\n",
       "      <th>1</th>\n",
       "      <td>Arnav Sharma</td>\n",
       "      <td>Male</td>\n",
       "      <td>23</td>\n",
       "      <td>Masters</td>\n",
       "    </tr>\n",
       "    <tr>\n",
       "      <th>2</th>\n",
       "      <td>Sourav</td>\n",
       "      <td>Other</td>\n",
       "      <td>30</td>\n",
       "      <td>Doctoral</td>\n",
       "    </tr>\n",
       "    <tr>\n",
       "      <th>3</th>\n",
       "      <td>Sophia</td>\n",
       "      <td>Female</td>\n",
       "      <td>19</td>\n",
       "      <td>High School</td>\n",
       "    </tr>\n",
       "  </tbody>\n",
       "</table>\n",
       "</div>"
      ],
      "text/plain": [
       "           Name  Gender  Age       Degree\n",
       "0        Ramana    Male   28    Bachelors\n",
       "1  Arnav Sharma    Male   23      Masters\n",
       "2        Sourav   Other   30     Doctoral\n",
       "3        Sophia  Female   19  High School"
      ]
     },
     "execution_count": 56,
     "metadata": {},
     "output_type": "execute_result"
    }
   ],
   "source": [
    "df1"
   ]
  },
  {
   "cell_type": "code",
   "execution_count": 57,
   "metadata": {},
   "outputs": [
    {
     "data": {
      "text/html": [
       "<div>\n",
       "<style scoped>\n",
       "    .dataframe tbody tr th:only-of-type {\n",
       "        vertical-align: middle;\n",
       "    }\n",
       "\n",
       "    .dataframe tbody tr th {\n",
       "        vertical-align: top;\n",
       "    }\n",
       "\n",
       "    .dataframe thead th {\n",
       "        text-align: right;\n",
       "    }\n",
       "</style>\n",
       "<table border=\"1\" class=\"dataframe\">\n",
       "  <thead>\n",
       "    <tr style=\"text-align: right;\">\n",
       "      <th></th>\n",
       "      <th>Name</th>\n",
       "      <th>Gender</th>\n",
       "      <th>Age</th>\n",
       "      <th>Degree</th>\n",
       "    </tr>\n",
       "  </thead>\n",
       "  <tbody>\n",
       "    <tr>\n",
       "      <th>0</th>\n",
       "      <td>Ramana</td>\n",
       "      <td>Male</td>\n",
       "      <td>28</td>\n",
       "      <td>Bachelors</td>\n",
       "    </tr>\n",
       "    <tr>\n",
       "      <th>1</th>\n",
       "      <td>Arnav Sharma</td>\n",
       "      <td>Male</td>\n",
       "      <td>23</td>\n",
       "      <td>Masters</td>\n",
       "    </tr>\n",
       "    <tr>\n",
       "      <th>2</th>\n",
       "      <td>Sourav</td>\n",
       "      <td>Other</td>\n",
       "      <td>30</td>\n",
       "      <td>Doctoral</td>\n",
       "    </tr>\n",
       "    <tr>\n",
       "      <th>3</th>\n",
       "      <td>Sophia</td>\n",
       "      <td>Female</td>\n",
       "      <td>19</td>\n",
       "      <td>High School</td>\n",
       "    </tr>\n",
       "  </tbody>\n",
       "</table>\n",
       "</div>"
      ],
      "text/plain": [
       "           Name  Gender  Age       Degree\n",
       "0        Ramana    Male   28    Bachelors\n",
       "1  Arnav Sharma    Male   23      Masters\n",
       "2        Sourav   Other   30     Doctoral\n",
       "3        Sophia  Female   19  High School"
      ]
     },
     "execution_count": 57,
     "metadata": {},
     "output_type": "execute_result"
    }
   ],
   "source": [
    "df"
   ]
  },
  {
   "cell_type": "markdown",
   "metadata": {},
   "source": [
    "- In the above dataframe, `Gender` attribute is *nominal* where as `Degree` attribute is Ordinal.\n",
    "- To convert categorical variables into numeric,we perform the *One-Hot Encoding* for the *nominal* attribute and *Ordinal Encoding* for the ordinal attribute."
   ]
  },
  {
   "cell_type": "code",
   "execution_count": 58,
   "metadata": {},
   "outputs": [],
   "source": [
    "#load the one-hot encoder from sklearn\n",
    "from sklearn.preprocessing import OneHotEncoder\n",
    "encoder_gender = OneHotEncoder().fit(df1[['Gender']])"
   ]
  },
  {
   "cell_type": "code",
   "execution_count": 59,
   "metadata": {},
   "outputs": [
    {
     "data": {
      "text/plain": [
       "[array(['Female', 'Male', 'Other'], dtype=object)]"
      ]
     },
     "execution_count": 59,
     "metadata": {},
     "output_type": "execute_result"
    }
   ],
   "source": [
    "encoder_gender.categories_"
   ]
  },
  {
   "cell_type": "code",
   "execution_count": 60,
   "metadata": {},
   "outputs": [
    {
     "data": {
      "text/plain": [
       "array([[0., 1., 0.],\n",
       "       [0., 1., 0.],\n",
       "       [0., 0., 1.],\n",
       "       [1., 0., 0.]])"
      ]
     },
     "execution_count": 60,
     "metadata": {},
     "output_type": "execute_result"
    }
   ],
   "source": [
    "gender_values = encoder_gender.transform(df1[['Gender']])\n",
    "gender_values.toarray()"
   ]
  },
  {
   "cell_type": "code",
   "execution_count": 61,
   "metadata": {},
   "outputs": [],
   "source": [
    "df1[['Gender_F','Gender_M','Gender_O']] = gender_values.toarray()"
   ]
  },
  {
   "cell_type": "code",
   "execution_count": 62,
   "metadata": {},
   "outputs": [
    {
     "data": {
      "text/html": [
       "<div>\n",
       "<style scoped>\n",
       "    .dataframe tbody tr th:only-of-type {\n",
       "        vertical-align: middle;\n",
       "    }\n",
       "\n",
       "    .dataframe tbody tr th {\n",
       "        vertical-align: top;\n",
       "    }\n",
       "\n",
       "    .dataframe thead th {\n",
       "        text-align: right;\n",
       "    }\n",
       "</style>\n",
       "<table border=\"1\" class=\"dataframe\">\n",
       "  <thead>\n",
       "    <tr style=\"text-align: right;\">\n",
       "      <th></th>\n",
       "      <th>Name</th>\n",
       "      <th>Gender</th>\n",
       "      <th>Age</th>\n",
       "      <th>Degree</th>\n",
       "      <th>Gender_F</th>\n",
       "      <th>Gender_M</th>\n",
       "      <th>Gender_O</th>\n",
       "    </tr>\n",
       "  </thead>\n",
       "  <tbody>\n",
       "    <tr>\n",
       "      <th>0</th>\n",
       "      <td>Ramana</td>\n",
       "      <td>Male</td>\n",
       "      <td>28</td>\n",
       "      <td>Bachelors</td>\n",
       "      <td>0.0</td>\n",
       "      <td>1.0</td>\n",
       "      <td>0.0</td>\n",
       "    </tr>\n",
       "    <tr>\n",
       "      <th>1</th>\n",
       "      <td>Arnav Sharma</td>\n",
       "      <td>Male</td>\n",
       "      <td>23</td>\n",
       "      <td>Masters</td>\n",
       "      <td>0.0</td>\n",
       "      <td>1.0</td>\n",
       "      <td>0.0</td>\n",
       "    </tr>\n",
       "    <tr>\n",
       "      <th>2</th>\n",
       "      <td>Sourav</td>\n",
       "      <td>Other</td>\n",
       "      <td>30</td>\n",
       "      <td>Doctoral</td>\n",
       "      <td>0.0</td>\n",
       "      <td>0.0</td>\n",
       "      <td>1.0</td>\n",
       "    </tr>\n",
       "    <tr>\n",
       "      <th>3</th>\n",
       "      <td>Sophia</td>\n",
       "      <td>Female</td>\n",
       "      <td>19</td>\n",
       "      <td>High School</td>\n",
       "      <td>1.0</td>\n",
       "      <td>0.0</td>\n",
       "      <td>0.0</td>\n",
       "    </tr>\n",
       "  </tbody>\n",
       "</table>\n",
       "</div>"
      ],
      "text/plain": [
       "           Name  Gender  Age       Degree  Gender_F  Gender_M  Gender_O\n",
       "0        Ramana    Male   28    Bachelors       0.0       1.0       0.0\n",
       "1  Arnav Sharma    Male   23      Masters       0.0       1.0       0.0\n",
       "2        Sourav   Other   30     Doctoral       0.0       0.0       1.0\n",
       "3        Sophia  Female   19  High School       1.0       0.0       0.0"
      ]
     },
     "execution_count": 62,
     "metadata": {},
     "output_type": "execute_result"
    }
   ],
   "source": [
    "df1"
   ]
  },
  {
   "cell_type": "code",
   "execution_count": 63,
   "metadata": {},
   "outputs": [
    {
     "data": {
      "text/plain": [
       "[array(['Bachelors', 'Doctoral', 'High School', 'Masters'], dtype=object)]"
      ]
     },
     "execution_count": 63,
     "metadata": {},
     "output_type": "execute_result"
    }
   ],
   "source": [
    "#load the ordinal encoder from skelarn\n",
    "from sklearn.preprocessing import OrdinalEncoder\n",
    "encoder_education = OrdinalEncoder()\n",
    "encoder_education.fit_transform(df[[\"Degree\"]])\n",
    "encoder_education.categories_"
   ]
  },
  {
   "cell_type": "code",
   "execution_count": 64,
   "metadata": {},
   "outputs": [
    {
     "data": {
      "text/html": [
       "<div>\n",
       "<style scoped>\n",
       "    .dataframe tbody tr th:only-of-type {\n",
       "        vertical-align: middle;\n",
       "    }\n",
       "\n",
       "    .dataframe tbody tr th {\n",
       "        vertical-align: top;\n",
       "    }\n",
       "\n",
       "    .dataframe thead th {\n",
       "        text-align: right;\n",
       "    }\n",
       "</style>\n",
       "<table border=\"1\" class=\"dataframe\">\n",
       "  <thead>\n",
       "    <tr style=\"text-align: right;\">\n",
       "      <th></th>\n",
       "      <th>Name</th>\n",
       "      <th>Gender</th>\n",
       "      <th>Age</th>\n",
       "      <th>Degree</th>\n",
       "      <th>Gender_F</th>\n",
       "      <th>Gender_M</th>\n",
       "      <th>Gender_O</th>\n",
       "      <th>Degree_Encoded</th>\n",
       "    </tr>\n",
       "  </thead>\n",
       "  <tbody>\n",
       "    <tr>\n",
       "      <th>0</th>\n",
       "      <td>Ramana</td>\n",
       "      <td>Male</td>\n",
       "      <td>28</td>\n",
       "      <td>Bachelors</td>\n",
       "      <td>0.0</td>\n",
       "      <td>1.0</td>\n",
       "      <td>0.0</td>\n",
       "      <td>0.0</td>\n",
       "    </tr>\n",
       "    <tr>\n",
       "      <th>1</th>\n",
       "      <td>Arnav Sharma</td>\n",
       "      <td>Male</td>\n",
       "      <td>23</td>\n",
       "      <td>Masters</td>\n",
       "      <td>0.0</td>\n",
       "      <td>1.0</td>\n",
       "      <td>0.0</td>\n",
       "      <td>3.0</td>\n",
       "    </tr>\n",
       "    <tr>\n",
       "      <th>2</th>\n",
       "      <td>Sourav</td>\n",
       "      <td>Other</td>\n",
       "      <td>30</td>\n",
       "      <td>Doctoral</td>\n",
       "      <td>0.0</td>\n",
       "      <td>0.0</td>\n",
       "      <td>1.0</td>\n",
       "      <td>1.0</td>\n",
       "    </tr>\n",
       "    <tr>\n",
       "      <th>3</th>\n",
       "      <td>Sophia</td>\n",
       "      <td>Female</td>\n",
       "      <td>19</td>\n",
       "      <td>High School</td>\n",
       "      <td>1.0</td>\n",
       "      <td>0.0</td>\n",
       "      <td>0.0</td>\n",
       "      <td>2.0</td>\n",
       "    </tr>\n",
       "  </tbody>\n",
       "</table>\n",
       "</div>"
      ],
      "text/plain": [
       "           Name  Gender  Age       Degree  Gender_F  Gender_M  Gender_O  \\\n",
       "0        Ramana    Male   28    Bachelors       0.0       1.0       0.0   \n",
       "1  Arnav Sharma    Male   23      Masters       0.0       1.0       0.0   \n",
       "2        Sourav   Other   30     Doctoral       0.0       0.0       1.0   \n",
       "3        Sophia  Female   19  High School       1.0       0.0       0.0   \n",
       "\n",
       "   Degree_Encoded  \n",
       "0             0.0  \n",
       "1             3.0  \n",
       "2             1.0  \n",
       "3             2.0  "
      ]
     },
     "execution_count": 64,
     "metadata": {},
     "output_type": "execute_result"
    }
   ],
   "source": [
    "df1[[\"Degree_Encoded\"]] = encoder_education.fit_transform(df[[\"Degree\"]]) \n",
    "df1"
   ]
  },
  {
   "cell_type": "markdown",
   "metadata": {},
   "source": [
    "We except an order as High School>Bachelors>Masters>Doctoral. We initialize based on our expectation.  \n"
   ]
  },
  {
   "cell_type": "code",
   "execution_count": 65,
   "metadata": {},
   "outputs": [],
   "source": [
    "encoder_for_education = OrdinalEncoder(categories = [['High School','Bachelors','Masters','Doctoral']])\n",
    "df1[['Degree_encoded']] = encoder_for_education.fit_transform(df1[['Degree']])"
   ]
  },
  {
   "cell_type": "code",
   "execution_count": 66,
   "metadata": {},
   "outputs": [
    {
     "data": {
      "text/html": [
       "<div>\n",
       "<style scoped>\n",
       "    .dataframe tbody tr th:only-of-type {\n",
       "        vertical-align: middle;\n",
       "    }\n",
       "\n",
       "    .dataframe tbody tr th {\n",
       "        vertical-align: top;\n",
       "    }\n",
       "\n",
       "    .dataframe thead th {\n",
       "        text-align: right;\n",
       "    }\n",
       "</style>\n",
       "<table border=\"1\" class=\"dataframe\">\n",
       "  <thead>\n",
       "    <tr style=\"text-align: right;\">\n",
       "      <th></th>\n",
       "      <th>Name</th>\n",
       "      <th>Gender</th>\n",
       "      <th>Age</th>\n",
       "      <th>Degree</th>\n",
       "      <th>Gender_F</th>\n",
       "      <th>Gender_M</th>\n",
       "      <th>Gender_O</th>\n",
       "      <th>Degree_Encoded</th>\n",
       "      <th>Degree_encoded</th>\n",
       "    </tr>\n",
       "  </thead>\n",
       "  <tbody>\n",
       "    <tr>\n",
       "      <th>0</th>\n",
       "      <td>Ramana</td>\n",
       "      <td>Male</td>\n",
       "      <td>28</td>\n",
       "      <td>Bachelors</td>\n",
       "      <td>0.0</td>\n",
       "      <td>1.0</td>\n",
       "      <td>0.0</td>\n",
       "      <td>0.0</td>\n",
       "      <td>1.0</td>\n",
       "    </tr>\n",
       "    <tr>\n",
       "      <th>1</th>\n",
       "      <td>Arnav Sharma</td>\n",
       "      <td>Male</td>\n",
       "      <td>23</td>\n",
       "      <td>Masters</td>\n",
       "      <td>0.0</td>\n",
       "      <td>1.0</td>\n",
       "      <td>0.0</td>\n",
       "      <td>3.0</td>\n",
       "      <td>2.0</td>\n",
       "    </tr>\n",
       "    <tr>\n",
       "      <th>2</th>\n",
       "      <td>Sourav</td>\n",
       "      <td>Other</td>\n",
       "      <td>30</td>\n",
       "      <td>Doctoral</td>\n",
       "      <td>0.0</td>\n",
       "      <td>0.0</td>\n",
       "      <td>1.0</td>\n",
       "      <td>1.0</td>\n",
       "      <td>3.0</td>\n",
       "    </tr>\n",
       "    <tr>\n",
       "      <th>3</th>\n",
       "      <td>Sophia</td>\n",
       "      <td>Female</td>\n",
       "      <td>19</td>\n",
       "      <td>High School</td>\n",
       "      <td>1.0</td>\n",
       "      <td>0.0</td>\n",
       "      <td>0.0</td>\n",
       "      <td>2.0</td>\n",
       "      <td>0.0</td>\n",
       "    </tr>\n",
       "  </tbody>\n",
       "</table>\n",
       "</div>"
      ],
      "text/plain": [
       "           Name  Gender  Age       Degree  Gender_F  Gender_M  Gender_O  \\\n",
       "0        Ramana    Male   28    Bachelors       0.0       1.0       0.0   \n",
       "1  Arnav Sharma    Male   23      Masters       0.0       1.0       0.0   \n",
       "2        Sourav   Other   30     Doctoral       0.0       0.0       1.0   \n",
       "3        Sophia  Female   19  High School       1.0       0.0       0.0   \n",
       "\n",
       "   Degree_Encoded  Degree_encoded  \n",
       "0             0.0             1.0  \n",
       "1             3.0             2.0  \n",
       "2             1.0             3.0  \n",
       "3             2.0             0.0  "
      ]
     },
     "execution_count": 66,
     "metadata": {},
     "output_type": "execute_result"
    }
   ],
   "source": [
    "df1"
   ]
  },
  {
   "cell_type": "markdown",
   "metadata": {},
   "source": [
    "Now we converted the attributes `Gender` and `Degree` as numeric. We an drop them along with the `Name` attribute."
   ]
  },
  {
   "cell_type": "code",
   "execution_count": 67,
   "metadata": {},
   "outputs": [
    {
     "data": {
      "text/html": [
       "<div>\n",
       "<style scoped>\n",
       "    .dataframe tbody tr th:only-of-type {\n",
       "        vertical-align: middle;\n",
       "    }\n",
       "\n",
       "    .dataframe tbody tr th {\n",
       "        vertical-align: top;\n",
       "    }\n",
       "\n",
       "    .dataframe thead th {\n",
       "        text-align: right;\n",
       "    }\n",
       "</style>\n",
       "<table border=\"1\" class=\"dataframe\">\n",
       "  <thead>\n",
       "    <tr style=\"text-align: right;\">\n",
       "      <th></th>\n",
       "      <th>Age</th>\n",
       "      <th>Gender_F</th>\n",
       "      <th>Gender_M</th>\n",
       "      <th>Gender_O</th>\n",
       "      <th>Degree_Encoded</th>\n",
       "      <th>Degree_encoded</th>\n",
       "    </tr>\n",
       "  </thead>\n",
       "  <tbody>\n",
       "    <tr>\n",
       "      <th>0</th>\n",
       "      <td>28</td>\n",
       "      <td>0.0</td>\n",
       "      <td>1.0</td>\n",
       "      <td>0.0</td>\n",
       "      <td>0.0</td>\n",
       "      <td>1.0</td>\n",
       "    </tr>\n",
       "    <tr>\n",
       "      <th>1</th>\n",
       "      <td>23</td>\n",
       "      <td>0.0</td>\n",
       "      <td>1.0</td>\n",
       "      <td>0.0</td>\n",
       "      <td>3.0</td>\n",
       "      <td>2.0</td>\n",
       "    </tr>\n",
       "    <tr>\n",
       "      <th>2</th>\n",
       "      <td>30</td>\n",
       "      <td>0.0</td>\n",
       "      <td>0.0</td>\n",
       "      <td>1.0</td>\n",
       "      <td>1.0</td>\n",
       "      <td>3.0</td>\n",
       "    </tr>\n",
       "    <tr>\n",
       "      <th>3</th>\n",
       "      <td>19</td>\n",
       "      <td>1.0</td>\n",
       "      <td>0.0</td>\n",
       "      <td>0.0</td>\n",
       "      <td>2.0</td>\n",
       "      <td>0.0</td>\n",
       "    </tr>\n",
       "  </tbody>\n",
       "</table>\n",
       "</div>"
      ],
      "text/plain": [
       "   Age  Gender_F  Gender_M  Gender_O  Degree_Encoded  Degree_encoded\n",
       "0   28       0.0       1.0       0.0             0.0             1.0\n",
       "1   23       0.0       1.0       0.0             3.0             2.0\n",
       "2   30       0.0       0.0       1.0             1.0             3.0\n",
       "3   19       1.0       0.0       0.0             2.0             0.0"
      ]
     },
     "execution_count": 67,
     "metadata": {},
     "output_type": "execute_result"
    }
   ],
   "source": [
    "df1.drop(columns=[\"Name\",\"Gender\",\"Degree\"],inplace=True)\n",
    "df1"
   ]
  },
  {
   "cell_type": "code",
   "execution_count": 68,
   "metadata": {},
   "outputs": [
    {
     "data": {
      "text/html": [
       "<div>\n",
       "<style scoped>\n",
       "    .dataframe tbody tr th:only-of-type {\n",
       "        vertical-align: middle;\n",
       "    }\n",
       "\n",
       "    .dataframe tbody tr th {\n",
       "        vertical-align: top;\n",
       "    }\n",
       "\n",
       "    .dataframe thead th {\n",
       "        text-align: right;\n",
       "    }\n",
       "</style>\n",
       "<table border=\"1\" class=\"dataframe\">\n",
       "  <thead>\n",
       "    <tr style=\"text-align: right;\">\n",
       "      <th></th>\n",
       "      <th>Age</th>\n",
       "      <th>Gender_F</th>\n",
       "      <th>Gender_M</th>\n",
       "      <th>Gender_O</th>\n",
       "      <th>Degree_Encoded</th>\n",
       "      <th>Degree_encoded</th>\n",
       "    </tr>\n",
       "  </thead>\n",
       "  <tbody>\n",
       "    <tr>\n",
       "      <th>0</th>\n",
       "      <td>28</td>\n",
       "      <td>0.0</td>\n",
       "      <td>1.0</td>\n",
       "      <td>0.0</td>\n",
       "      <td>0.0</td>\n",
       "      <td>1.0</td>\n",
       "    </tr>\n",
       "    <tr>\n",
       "      <th>1</th>\n",
       "      <td>23</td>\n",
       "      <td>0.0</td>\n",
       "      <td>1.0</td>\n",
       "      <td>0.0</td>\n",
       "      <td>3.0</td>\n",
       "      <td>2.0</td>\n",
       "    </tr>\n",
       "    <tr>\n",
       "      <th>2</th>\n",
       "      <td>30</td>\n",
       "      <td>0.0</td>\n",
       "      <td>0.0</td>\n",
       "      <td>1.0</td>\n",
       "      <td>1.0</td>\n",
       "      <td>3.0</td>\n",
       "    </tr>\n",
       "    <tr>\n",
       "      <th>3</th>\n",
       "      <td>19</td>\n",
       "      <td>1.0</td>\n",
       "      <td>0.0</td>\n",
       "      <td>0.0</td>\n",
       "      <td>2.0</td>\n",
       "      <td>0.0</td>\n",
       "    </tr>\n",
       "  </tbody>\n",
       "</table>\n",
       "</div>"
      ],
      "text/plain": [
       "   Age  Gender_F  Gender_M  Gender_O  Degree_Encoded  Degree_encoded\n",
       "0   28       0.0       1.0       0.0             0.0             1.0\n",
       "1   23       0.0       1.0       0.0             3.0             2.0\n",
       "2   30       0.0       0.0       1.0             1.0             3.0\n",
       "3   19       1.0       0.0       0.0             2.0             0.0"
      ]
     },
     "execution_count": 68,
     "metadata": {},
     "output_type": "execute_result"
    }
   ],
   "source": [
    "df2 = df1.copy()\n",
    "df2"
   ]
  },
  {
   "cell_type": "markdown",
   "metadata": {},
   "source": [
    "### 2.2 Transformation of numerical attributes: Feature Scaling"
   ]
  },
  {
   "cell_type": "markdown",
   "metadata": {},
   "source": [
    "- Most important transformations to apply to data is *feature scaling*\n",
    "- In some cases, if the input numerical features have very different scales, the ML algorithm doesn't perform well. \n",
    "- We prefer to use the same scaling for all the input features. \n",
    "- There are two common ways to get all features to have the same scale: *min max scaling* (or sometimes called as *Normalization* ) and *standardization*.\n",
    "- In normalization, values are shifted and rescaled so that they end up ranging from 0 to 1.  \n",
    "$$ x \\rightarrow x_{normalized}={x-x_{min}\\over x_{max}-x_{min}}$$ \n",
    "- In standardization, values are shifted and rescaled so that they end up the datapoints have mean 0 and standard deviation 1. \n",
    "$$x\\rightarrow x_{std} = {x-\\bar{x}\\over s}$$"
   ]
  },
  {
   "cell_type": "code",
   "execution_count": 69,
   "metadata": {},
   "outputs": [
    {
     "name": "stdout",
     "output_type": "stream",
     "text": [
      "The normalization of x:\n",
      " [[0.55 0.6  0.65 1.   0.45]\n",
      " [0.55 0.   0.7  0.8  0.9 ]]\n",
      "The Standardization of x:\n",
      " [[-0.26726124 -0.07636035  0.11454053  1.45084674 -0.64906302]\n",
      " [-0.26726124 -2.367171    0.30544142  0.68724319  1.06904497]]\n"
     ]
    }
   ],
   "source": [
    "import numpy as np \n",
    "#load an array\n",
    "x = np.array([[1,2,3,10,-1],[1,-10, 4, 6,8]])\n",
    "#normalization\n",
    "xnorm = (x-np.min(x))/(np.max(x)-np.min(x)) \n",
    "print(f\"The normalization of x:\\n {xnorm}\")\n",
    "\n",
    "xstd = (x-np.mean(x))/np.std(x)\n",
    "print(f\"The Standardization of x:\\n {xstd}\")"
   ]
  },
  {
   "cell_type": "markdown",
   "metadata": {},
   "source": [
    "Scikit-Learn provides functions for these transformers namely `MinMaxScaler` and `StandardScaler` "
   ]
  },
  {
   "cell_type": "code",
   "execution_count": 70,
   "metadata": {},
   "outputs": [
    {
     "data": {
      "text/html": [
       "<div>\n",
       "<style scoped>\n",
       "    .dataframe tbody tr th:only-of-type {\n",
       "        vertical-align: middle;\n",
       "    }\n",
       "\n",
       "    .dataframe tbody tr th {\n",
       "        vertical-align: top;\n",
       "    }\n",
       "\n",
       "    .dataframe thead th {\n",
       "        text-align: right;\n",
       "    }\n",
       "</style>\n",
       "<table border=\"1\" class=\"dataframe\">\n",
       "  <thead>\n",
       "    <tr style=\"text-align: right;\">\n",
       "      <th></th>\n",
       "      <th>Age</th>\n",
       "      <th>Gender_F</th>\n",
       "      <th>Gender_M</th>\n",
       "      <th>Gender_O</th>\n",
       "      <th>Degree_Encoded</th>\n",
       "      <th>Degree_encoded</th>\n",
       "    </tr>\n",
       "  </thead>\n",
       "  <tbody>\n",
       "    <tr>\n",
       "      <th>0</th>\n",
       "      <td>0.818182</td>\n",
       "      <td>0.0</td>\n",
       "      <td>1.0</td>\n",
       "      <td>0.0</td>\n",
       "      <td>0.0</td>\n",
       "      <td>1.0</td>\n",
       "    </tr>\n",
       "    <tr>\n",
       "      <th>1</th>\n",
       "      <td>0.363636</td>\n",
       "      <td>0.0</td>\n",
       "      <td>1.0</td>\n",
       "      <td>0.0</td>\n",
       "      <td>3.0</td>\n",
       "      <td>2.0</td>\n",
       "    </tr>\n",
       "    <tr>\n",
       "      <th>2</th>\n",
       "      <td>1.000000</td>\n",
       "      <td>0.0</td>\n",
       "      <td>0.0</td>\n",
       "      <td>1.0</td>\n",
       "      <td>1.0</td>\n",
       "      <td>3.0</td>\n",
       "    </tr>\n",
       "    <tr>\n",
       "      <th>3</th>\n",
       "      <td>0.000000</td>\n",
       "      <td>1.0</td>\n",
       "      <td>0.0</td>\n",
       "      <td>0.0</td>\n",
       "      <td>2.0</td>\n",
       "      <td>0.0</td>\n",
       "    </tr>\n",
       "  </tbody>\n",
       "</table>\n",
       "</div>"
      ],
      "text/plain": [
       "        Age  Gender_F  Gender_M  Gender_O  Degree_Encoded  Degree_encoded\n",
       "0  0.818182       0.0       1.0       0.0             0.0             1.0\n",
       "1  0.363636       0.0       1.0       0.0             3.0             2.0\n",
       "2  1.000000       0.0       0.0       1.0             1.0             3.0\n",
       "3  0.000000       1.0       0.0       0.0             2.0             0.0"
      ]
     },
     "execution_count": 70,
     "metadata": {},
     "output_type": "execute_result"
    }
   ],
   "source": [
    "#load mini-max scaler\n",
    "from sklearn.preprocessing import MinMaxScaler\n",
    "scaler = MinMaxScaler()\n",
    "scaler.fit(df1[['Age']])\n",
    "df1['Age'] = scaler.transform(df1[['Age']])\n",
    "df1"
   ]
  },
  {
   "cell_type": "code",
   "execution_count": 71,
   "metadata": {},
   "outputs": [
    {
     "data": {
      "text/html": [
       "<div>\n",
       "<style scoped>\n",
       "    .dataframe tbody tr th:only-of-type {\n",
       "        vertical-align: middle;\n",
       "    }\n",
       "\n",
       "    .dataframe tbody tr th {\n",
       "        vertical-align: top;\n",
       "    }\n",
       "\n",
       "    .dataframe thead th {\n",
       "        text-align: right;\n",
       "    }\n",
       "</style>\n",
       "<table border=\"1\" class=\"dataframe\">\n",
       "  <thead>\n",
       "    <tr style=\"text-align: right;\">\n",
       "      <th></th>\n",
       "      <th>Age</th>\n",
       "      <th>Gender_F</th>\n",
       "      <th>Gender_M</th>\n",
       "      <th>Gender_O</th>\n",
       "      <th>Degree_Encoded</th>\n",
       "      <th>Degree_encoded</th>\n",
       "    </tr>\n",
       "  </thead>\n",
       "  <tbody>\n",
       "    <tr>\n",
       "      <th>0</th>\n",
       "      <td>0.697486</td>\n",
       "      <td>0.0</td>\n",
       "      <td>1.0</td>\n",
       "      <td>0.0</td>\n",
       "      <td>0.0</td>\n",
       "      <td>1.0</td>\n",
       "    </tr>\n",
       "    <tr>\n",
       "      <th>1</th>\n",
       "      <td>-0.464991</td>\n",
       "      <td>0.0</td>\n",
       "      <td>1.0</td>\n",
       "      <td>0.0</td>\n",
       "      <td>3.0</td>\n",
       "      <td>2.0</td>\n",
       "    </tr>\n",
       "    <tr>\n",
       "      <th>2</th>\n",
       "      <td>1.162476</td>\n",
       "      <td>0.0</td>\n",
       "      <td>0.0</td>\n",
       "      <td>1.0</td>\n",
       "      <td>1.0</td>\n",
       "      <td>3.0</td>\n",
       "    </tr>\n",
       "    <tr>\n",
       "      <th>3</th>\n",
       "      <td>-1.394972</td>\n",
       "      <td>1.0</td>\n",
       "      <td>0.0</td>\n",
       "      <td>0.0</td>\n",
       "      <td>2.0</td>\n",
       "      <td>0.0</td>\n",
       "    </tr>\n",
       "  </tbody>\n",
       "</table>\n",
       "</div>"
      ],
      "text/plain": [
       "        Age  Gender_F  Gender_M  Gender_O  Degree_Encoded  Degree_encoded\n",
       "0  0.697486       0.0       1.0       0.0             0.0             1.0\n",
       "1 -0.464991       0.0       1.0       0.0             3.0             2.0\n",
       "2  1.162476       0.0       0.0       1.0             1.0             3.0\n",
       "3 -1.394972       1.0       0.0       0.0             2.0             0.0"
      ]
     },
     "execution_count": 71,
     "metadata": {},
     "output_type": "execute_result"
    }
   ],
   "source": [
    "#load StandardScalar from sklearn\n",
    "from sklearn.preprocessing import StandardScaler\n",
    "scaler = StandardScaler()\n",
    "scaler.fit(df2[['Age']])\n",
    "df2['Age'] = scaler.transform(df2[['Age']])\n",
    "df2 "
   ]
  },
  {
   "cell_type": "markdown",
   "metadata": {},
   "source": [
    "### 2.3 Transformation Pipelines\n",
    "\n",
    "- A sequence of data processing components is called a data `pipeline`.\n",
    "- Pipelines are very common in Machine Learning systems, since there is lot of data to manipulate and many data transformations to apply. \n",
    "- Scikit-Learn provides the `Pipeline` class to help with sequence of transformations. \n",
    "- In Scikit-Learn version 0.20 introduced `ColumnTransformer` class, which helps to preprocess categorical and numerical features at the same time.\n",
    "- Look at the snippet of code:\n"
   ]
  },
  {
   "cell_type": "code",
   "execution_count": 72,
   "metadata": {},
   "outputs": [
    {
     "name": "stdout",
     "output_type": "stream",
     "text": [
      "[[ 0.69748583  0.          1.          0.          1.        ]\n",
      " [-0.46499055  0.          1.          0.          2.        ]\n",
      " [ 1.16247639  0.          0.          1.          3.        ]\n",
      " [-1.39497166  1.          0.          0.          0.        ]]\n"
     ]
    },
    {
     "data": {
      "text/plain": [
       "numpy.ndarray"
      ]
     },
     "execution_count": 72,
     "metadata": {},
     "output_type": "execute_result"
    }
   ],
   "source": [
    "from sklearn.pipeline import Pipeline \n",
    "from sklearn.preprocessing import StandardScaler, OneHotEncoder, OrdinalEncoder\n",
    "from sklearn.compose import ColumnTransformer\n",
    "\n",
    "num_pipeline = Pipeline([\n",
    "    (\"std_scaler\",StandardScaler())\n",
    "])\n",
    "cat_attributes = [\"Gender\",\"Degree\"]\n",
    "num_attributes = [\"Age\"] \n",
    "\n",
    "encoder_for_education = OrdinalEncoder(categories = [['High School','Bachelors','Masters','Doctoral']])\n",
    "\n",
    "full_pipeline = ColumnTransformer([\n",
    "    (\"num\",StandardScaler(),[\"Age\"]),\n",
    "    (\"One-hot\",OneHotEncoder(),[\"Gender\"]),\n",
    "    (\"ordinal\",encoder_for_education,[\"Degree\"])\n",
    "])\n",
    "\n",
    "df_prep = full_pipeline.fit_transform(df)\n",
    "print(df_prep)\n",
    "type(df_prep)"
   ]
  },
  {
   "cell_type": "code",
   "execution_count": 73,
   "metadata": {},
   "outputs": [
    {
     "data": {
      "text/html": [
       "<div>\n",
       "<style scoped>\n",
       "    .dataframe tbody tr th:only-of-type {\n",
       "        vertical-align: middle;\n",
       "    }\n",
       "\n",
       "    .dataframe tbody tr th {\n",
       "        vertical-align: top;\n",
       "    }\n",
       "\n",
       "    .dataframe thead th {\n",
       "        text-align: right;\n",
       "    }\n",
       "</style>\n",
       "<table border=\"1\" class=\"dataframe\">\n",
       "  <thead>\n",
       "    <tr style=\"text-align: right;\">\n",
       "      <th></th>\n",
       "      <th>Age</th>\n",
       "      <th>GF</th>\n",
       "      <th>GM</th>\n",
       "      <th>GO</th>\n",
       "      <th>Degree</th>\n",
       "    </tr>\n",
       "  </thead>\n",
       "  <tbody>\n",
       "    <tr>\n",
       "      <th>0</th>\n",
       "      <td>0.697486</td>\n",
       "      <td>0.0</td>\n",
       "      <td>1.0</td>\n",
       "      <td>0.0</td>\n",
       "      <td>1.0</td>\n",
       "    </tr>\n",
       "    <tr>\n",
       "      <th>1</th>\n",
       "      <td>-0.464991</td>\n",
       "      <td>0.0</td>\n",
       "      <td>1.0</td>\n",
       "      <td>0.0</td>\n",
       "      <td>2.0</td>\n",
       "    </tr>\n",
       "    <tr>\n",
       "      <th>2</th>\n",
       "      <td>1.162476</td>\n",
       "      <td>0.0</td>\n",
       "      <td>0.0</td>\n",
       "      <td>1.0</td>\n",
       "      <td>3.0</td>\n",
       "    </tr>\n",
       "    <tr>\n",
       "      <th>3</th>\n",
       "      <td>-1.394972</td>\n",
       "      <td>1.0</td>\n",
       "      <td>0.0</td>\n",
       "      <td>0.0</td>\n",
       "      <td>0.0</td>\n",
       "    </tr>\n",
       "  </tbody>\n",
       "</table>\n",
       "</div>"
      ],
      "text/plain": [
       "        Age   GF   GM   GO  Degree\n",
       "0  0.697486  0.0  1.0  0.0     1.0\n",
       "1 -0.464991  0.0  1.0  0.0     2.0\n",
       "2  1.162476  0.0  0.0  1.0     3.0\n",
       "3 -1.394972  1.0  0.0  0.0     0.0"
      ]
     },
     "execution_count": 73,
     "metadata": {},
     "output_type": "execute_result"
    }
   ],
   "source": [
    "pd.DataFrame(df_prep, columns=[\"Age\",\"GF\",\"GM\",\"GO\",\"Degree\"])"
   ]
  },
  {
   "cell_type": "markdown",
   "metadata": {},
   "source": [
    "### 3. Performance Measures"
   ]
  },
  {
   "cell_type": "markdown",
   "metadata": {},
   "source": [
    "For regression problems the typical performance measure is the **Root Mean Square Error** (RMSE). Also known as **Residual Sum of Squares** (RSS) which is defined as below:\n",
    "$$RMSE({\\bf X}, w) = \\sqrt{{1\\over n}\\sum_{i=1}^n\\Big(y^{(i)}-f({\\bf x}^{(i)})\\Big)^2} ={1\\over \\sqrt{n}}\\|y-f({\\bf X})\\|_2 $$\n",
    "-  $n$ is the number of observations in the dataset\n",
    "-  ${\\bf x}^{(i)}$ is a vector of all the feature values of the $i^{\\text{th}}$ instance in the dataset, and $y^{(i)}$ is its label.\n",
    "-  ${\\bf X}$ is a matrix containg all the feature values of all instances in the dataset.\n",
    "-  $f$ is the prediction function, also called the `hypothesis`.\n",
    "-  The predicted output for the instance ${\\bf x}^{(i)}$ is denoted as $\\hat{y}^{(i)}=f({\\bf x}^{(i)}).$"
   ]
  },
  {
   "cell_type": "markdown",
   "metadata": {},
   "source": [
    "There is another performance measure for regression tasks, which is called **Mean Absolute Error** (MAE), defined as  \n",
    "$$MAE({\\bf X}, w) = {1\\over n}\\sum_{i=1}^n\\Big|\\Big(y^{(i)}-f({\\bf x}^{(i)})\\Big)\\Big|={1\\over n}\\|y-f({\\bf X})\\|_1. "
   ]
  },
  {
   "cell_type": "markdown",
   "metadata": {},
   "source": [
    "Both the RMSE and the MAE are ways to measure the distance between two vectors: the vector of predictions and the vector of target values.\n",
    "\n",
    "- We can use higher the norm index instead of $\\ell_1$ or $\\ell_2$ norms.\n",
    "- If the norm index is higher, it focuses on large values and neglect small ones.\n",
    "- Thus the RMSE is more sensitive to outliers than the MAE. \n",
    "- When the outliers are exponentially rare, the RMSE performs very well and is generally preferred.\n"
   ]
  },
  {
   "cell_type": "markdown",
   "metadata": {},
   "source": [
    "## 4. Gradient Descent"
   ]
  },
  {
   "cell_type": "markdown",
   "metadata": {},
   "source": [
    "We optimize our loss function $L({\\bf X},w)={1\\over 2n}\\sum_{i=1}^n(y^{(i)}-\\hat{y}^{(i)})^2$ using Gradient Descent algorithm."
   ]
  },
  {
   "cell_type": "code",
   "execution_count": 74,
   "metadata": {},
   "outputs": [],
   "source": [
    "#load the libraries\n",
    "import numpy as np\n",
    "import pandas as pd"
   ]
  },
  {
   "cell_type": "code",
   "execution_count": 75,
   "metadata": {},
   "outputs": [
    {
     "data": {
      "text/html": [
       "<div>\n",
       "<style scoped>\n",
       "    .dataframe tbody tr th:only-of-type {\n",
       "        vertical-align: middle;\n",
       "    }\n",
       "\n",
       "    .dataframe tbody tr th {\n",
       "        vertical-align: top;\n",
       "    }\n",
       "\n",
       "    .dataframe thead th {\n",
       "        text-align: right;\n",
       "    }\n",
       "</style>\n",
       "<table border=\"1\" class=\"dataframe\">\n",
       "  <thead>\n",
       "    <tr style=\"text-align: right;\">\n",
       "      <th></th>\n",
       "      <th>Income</th>\n",
       "      <th>Limit</th>\n",
       "      <th>Rating</th>\n",
       "      <th>Cards</th>\n",
       "      <th>Age</th>\n",
       "      <th>Education</th>\n",
       "      <th>Own</th>\n",
       "      <th>Student</th>\n",
       "      <th>Married</th>\n",
       "      <th>Region</th>\n",
       "      <th>Balance</th>\n",
       "    </tr>\n",
       "  </thead>\n",
       "  <tbody>\n",
       "    <tr>\n",
       "      <th>0</th>\n",
       "      <td>14.891</td>\n",
       "      <td>3606</td>\n",
       "      <td>283</td>\n",
       "      <td>2</td>\n",
       "      <td>34</td>\n",
       "      <td>11</td>\n",
       "      <td>No</td>\n",
       "      <td>No</td>\n",
       "      <td>Yes</td>\n",
       "      <td>South</td>\n",
       "      <td>333</td>\n",
       "    </tr>\n",
       "    <tr>\n",
       "      <th>1</th>\n",
       "      <td>106.025</td>\n",
       "      <td>6645</td>\n",
       "      <td>483</td>\n",
       "      <td>3</td>\n",
       "      <td>82</td>\n",
       "      <td>15</td>\n",
       "      <td>Yes</td>\n",
       "      <td>Yes</td>\n",
       "      <td>Yes</td>\n",
       "      <td>West</td>\n",
       "      <td>903</td>\n",
       "    </tr>\n",
       "    <tr>\n",
       "      <th>2</th>\n",
       "      <td>104.593</td>\n",
       "      <td>7075</td>\n",
       "      <td>514</td>\n",
       "      <td>4</td>\n",
       "      <td>71</td>\n",
       "      <td>11</td>\n",
       "      <td>No</td>\n",
       "      <td>No</td>\n",
       "      <td>No</td>\n",
       "      <td>West</td>\n",
       "      <td>580</td>\n",
       "    </tr>\n",
       "    <tr>\n",
       "      <th>3</th>\n",
       "      <td>148.924</td>\n",
       "      <td>9504</td>\n",
       "      <td>681</td>\n",
       "      <td>3</td>\n",
       "      <td>36</td>\n",
       "      <td>11</td>\n",
       "      <td>Yes</td>\n",
       "      <td>No</td>\n",
       "      <td>No</td>\n",
       "      <td>West</td>\n",
       "      <td>964</td>\n",
       "    </tr>\n",
       "    <tr>\n",
       "      <th>4</th>\n",
       "      <td>55.882</td>\n",
       "      <td>4897</td>\n",
       "      <td>357</td>\n",
       "      <td>2</td>\n",
       "      <td>68</td>\n",
       "      <td>16</td>\n",
       "      <td>No</td>\n",
       "      <td>No</td>\n",
       "      <td>Yes</td>\n",
       "      <td>South</td>\n",
       "      <td>331</td>\n",
       "    </tr>\n",
       "  </tbody>\n",
       "</table>\n",
       "</div>"
      ],
      "text/plain": [
       "    Income  Limit  Rating  Cards  Age  Education  Own Student Married Region  \\\n",
       "0   14.891   3606     283      2   34         11   No      No     Yes  South   \n",
       "1  106.025   6645     483      3   82         15  Yes     Yes     Yes   West   \n",
       "2  104.593   7075     514      4   71         11   No      No      No   West   \n",
       "3  148.924   9504     681      3   36         11  Yes      No      No   West   \n",
       "4   55.882   4897     357      2   68         16   No      No     Yes  South   \n",
       "\n",
       "   Balance  \n",
       "0      333  \n",
       "1      903  \n",
       "2      580  \n",
       "3      964  \n",
       "4      331  "
      ]
     },
     "execution_count": 75,
     "metadata": {},
     "output_type": "execute_result"
    }
   ],
   "source": [
    "#load the dataset\n",
    "credit = pd.read_csv(\"E:\\MDSC-ML\\MDSC-ML-Lab\\Datasets\\Credit.csv\")\n",
    "credit.head()"
   ]
  },
  {
   "cell_type": "markdown",
   "metadata": {},
   "source": [
    "The dataset can be find [here](https://www.statlearning.com/resources-second-edition)."
   ]
  },
  {
   "cell_type": "code",
   "execution_count": 76,
   "metadata": {},
   "outputs": [
    {
     "data": {
      "text/html": [
       "<div>\n",
       "<style scoped>\n",
       "    .dataframe tbody tr th:only-of-type {\n",
       "        vertical-align: middle;\n",
       "    }\n",
       "\n",
       "    .dataframe tbody tr th {\n",
       "        vertical-align: top;\n",
       "    }\n",
       "\n",
       "    .dataframe thead th {\n",
       "        text-align: right;\n",
       "    }\n",
       "</style>\n",
       "<table border=\"1\" class=\"dataframe\">\n",
       "  <thead>\n",
       "    <tr style=\"text-align: right;\">\n",
       "      <th></th>\n",
       "      <th>Income</th>\n",
       "      <th>Limit</th>\n",
       "      <th>Rating</th>\n",
       "      <th>Cards</th>\n",
       "      <th>Age</th>\n",
       "      <th>Education</th>\n",
       "      <th>Balance</th>\n",
       "      <th>Own_Yes</th>\n",
       "      <th>Student_Yes</th>\n",
       "      <th>Married_Yes</th>\n",
       "      <th>Region_South</th>\n",
       "      <th>Region_West</th>\n",
       "    </tr>\n",
       "  </thead>\n",
       "  <tbody>\n",
       "    <tr>\n",
       "      <th>0</th>\n",
       "      <td>14.891</td>\n",
       "      <td>3606</td>\n",
       "      <td>283</td>\n",
       "      <td>2</td>\n",
       "      <td>34</td>\n",
       "      <td>11</td>\n",
       "      <td>333</td>\n",
       "      <td>0</td>\n",
       "      <td>0</td>\n",
       "      <td>1</td>\n",
       "      <td>1</td>\n",
       "      <td>0</td>\n",
       "    </tr>\n",
       "    <tr>\n",
       "      <th>1</th>\n",
       "      <td>106.025</td>\n",
       "      <td>6645</td>\n",
       "      <td>483</td>\n",
       "      <td>3</td>\n",
       "      <td>82</td>\n",
       "      <td>15</td>\n",
       "      <td>903</td>\n",
       "      <td>1</td>\n",
       "      <td>1</td>\n",
       "      <td>1</td>\n",
       "      <td>0</td>\n",
       "      <td>1</td>\n",
       "    </tr>\n",
       "    <tr>\n",
       "      <th>2</th>\n",
       "      <td>104.593</td>\n",
       "      <td>7075</td>\n",
       "      <td>514</td>\n",
       "      <td>4</td>\n",
       "      <td>71</td>\n",
       "      <td>11</td>\n",
       "      <td>580</td>\n",
       "      <td>0</td>\n",
       "      <td>0</td>\n",
       "      <td>0</td>\n",
       "      <td>0</td>\n",
       "      <td>1</td>\n",
       "    </tr>\n",
       "    <tr>\n",
       "      <th>3</th>\n",
       "      <td>148.924</td>\n",
       "      <td>9504</td>\n",
       "      <td>681</td>\n",
       "      <td>3</td>\n",
       "      <td>36</td>\n",
       "      <td>11</td>\n",
       "      <td>964</td>\n",
       "      <td>1</td>\n",
       "      <td>0</td>\n",
       "      <td>0</td>\n",
       "      <td>0</td>\n",
       "      <td>1</td>\n",
       "    </tr>\n",
       "    <tr>\n",
       "      <th>4</th>\n",
       "      <td>55.882</td>\n",
       "      <td>4897</td>\n",
       "      <td>357</td>\n",
       "      <td>2</td>\n",
       "      <td>68</td>\n",
       "      <td>16</td>\n",
       "      <td>331</td>\n",
       "      <td>0</td>\n",
       "      <td>0</td>\n",
       "      <td>1</td>\n",
       "      <td>1</td>\n",
       "      <td>0</td>\n",
       "    </tr>\n",
       "  </tbody>\n",
       "</table>\n",
       "</div>"
      ],
      "text/plain": [
       "    Income  Limit  Rating  Cards  Age  Education  Balance  Own_Yes  \\\n",
       "0   14.891   3606     283      2   34         11      333        0   \n",
       "1  106.025   6645     483      3   82         15      903        1   \n",
       "2  104.593   7075     514      4   71         11      580        0   \n",
       "3  148.924   9504     681      3   36         11      964        1   \n",
       "4   55.882   4897     357      2   68         16      331        0   \n",
       "\n",
       "   Student_Yes  Married_Yes  Region_South  Region_West  \n",
       "0            0            1             1            0  \n",
       "1            1            1             0            1  \n",
       "2            0            0             0            1  \n",
       "3            0            0             0            1  \n",
       "4            0            1             1            0  "
      ]
     },
     "execution_count": 76,
     "metadata": {},
     "output_type": "execute_result"
    }
   ],
   "source": [
    "#convert Nomial features into numeric using OheHot encoding\n",
    "credit = pd.get_dummies(credit, columns = ['Own', 'Student','Married','Region'],drop_first = True)\n",
    "credit.head()"
   ]
  },
  {
   "cell_type": "code",
   "execution_count": 77,
   "metadata": {},
   "outputs": [
    {
     "data": {
      "text/plain": [
       "0      283\n",
       "1      483\n",
       "2      514\n",
       "3      681\n",
       "4      357\n",
       "      ... \n",
       "395    307\n",
       "396    296\n",
       "397    321\n",
       "398    192\n",
       "399    415\n",
       "Name: Rating, Length: 400, dtype: int64"
      ]
     },
     "execution_count": 77,
     "metadata": {},
     "output_type": "execute_result"
    }
   ],
   "source": [
    "credit.iloc[:,2]"
   ]
  },
  {
   "cell_type": "code",
   "execution_count": 78,
   "metadata": {},
   "outputs": [],
   "source": [
    "y = credit.Balance\n",
    "X = credit.drop(columns=[\"Balance\"])"
   ]
  },
  {
   "cell_type": "code",
   "execution_count": 79,
   "metadata": {},
   "outputs": [],
   "source": [
    "#X = credit[[\"Income\",\"Limit\",\"Rating\",\"Cards\",\"Age\",\"Student_Yes\"]]"
   ]
  },
  {
   "cell_type": "code",
   "execution_count": 80,
   "metadata": {},
   "outputs": [],
   "source": [
    "from sklearn.model_selection import train_test_split\n",
    "\n",
    "Xtrain, Xtest, ytrain, ytest = train_test_split(X,y,test_size=0.2)"
   ]
  },
  {
   "cell_type": "code",
   "execution_count": 81,
   "metadata": {},
   "outputs": [
    {
     "data": {
      "text/plain": [
       "pandas.core.series.Series"
      ]
     },
     "execution_count": 81,
     "metadata": {},
     "output_type": "execute_result"
    }
   ],
   "source": [
    "type(ytrain)"
   ]
  },
  {
   "cell_type": "code",
   "execution_count": 82,
   "metadata": {},
   "outputs": [],
   "source": [
    "#feature scaling\n",
    "#use pipelines\n",
    "from sklearn.pipeline import Pipeline\n",
    "from sklearn.preprocessing import StandardScaler\n",
    "from sklearn.compose import ColumnTransformer\n",
    "\n",
    "num_pipeline = Pipeline([\n",
    "    ('num',StandardScaler())\n",
    "])  \n",
    "\n",
    "Xtrain = num_pipeline.fit_transform(Xtrain)  \n",
    "#credit_new = pd.DataFrame(credit_prep,columns = credit.columns) \n",
    "#credit_new.head()"
   ]
  },
  {
   "cell_type": "code",
   "execution_count": 83,
   "metadata": {},
   "outputs": [
    {
     "data": {
      "text/plain": [
       "(320,)"
      ]
     },
     "execution_count": 83,
     "metadata": {},
     "output_type": "execute_result"
    }
   ],
   "source": [
    "ytrain.shape"
   ]
  },
  {
   "cell_type": "code",
   "execution_count": 84,
   "metadata": {},
   "outputs": [],
   "source": [
    "Xtest = num_pipeline.fit_transform(Xtest) "
   ]
  },
  {
   "cell_type": "code",
   "execution_count": 85,
   "metadata": {},
   "outputs": [
    {
     "data": {
      "text/plain": [
       "(80, 11)"
      ]
     },
     "execution_count": 85,
     "metadata": {},
     "output_type": "execute_result"
    }
   ],
   "source": [
    "Xtest.shape"
   ]
  },
  {
   "cell_type": "code",
   "execution_count": 86,
   "metadata": {},
   "outputs": [],
   "source": [
    "#loss function\n",
    "def loss_function(X,y,w):\n",
    "    #initialization of useful values\n",
    "    m = X.shape[0]\n",
    "        #loss function\n",
    "    f = X @ w\n",
    "    y = np.array(y)\n",
    "    #h = f-y\n",
    "    #print(h.shape)\n",
    "    RS = (y-f).T@(y-f)\n",
    "    L = (1.0/2*m)* RS \n",
    "    return L[0][0]"
   ]
  },
  {
   "cell_type": "code",
   "execution_count": 87,
   "metadata": {},
   "outputs": [
    {
     "data": {
      "text/plain": [
       "33758611525.600582"
      ]
     },
     "execution_count": 87,
     "metadata": {},
     "output_type": "execute_result"
    }
   ],
   "source": [
    "w = np.random.random((11,1))\n",
    "loss_function(Xtrain,ytrain,w)"
   ]
  },
  {
   "cell_type": "code",
   "execution_count": 88,
   "metadata": {},
   "outputs": [
    {
     "name": "stdout",
     "output_type": "stream",
     "text": [
      "33758743794.361687\n"
     ]
    }
   ],
   "source": [
    "w = np.random.random((11,1))\n",
    "#print(w.shape)\n",
    "#print(Xtrain.shape)\n",
    "L = loss_function(Xtrain,ytrain,w)\n",
    "print(L)"
   ]
  },
  {
   "cell_type": "code",
   "execution_count": 89,
   "metadata": {},
   "outputs": [],
   "source": [
    "def gradient_descent(X,y,lr=0.03, num_iter=20):\n",
    "    #Initialization of useful values\n",
    "    m,k = X.shape \n",
    "    y = np.array(y).reshape(-1,1)\n",
    "    \n",
    "    #print(X.shape)\n",
    "    w = np.random.random((k,1))\n",
    "    #print(w.shape)\n",
    "    loss_list = []  \n",
    "    \n",
    "    for i in range(num_iter):\n",
    "        f = X @ w \n",
    "        gradient = (1.0/m)*(X.T@(f-y))\n",
    "        w1 = w - lr * gradient \n",
    "        #w1.to_numpy()\n",
    "       \n",
    "        #saving values for plots\n",
    "        loss =  loss_function(X,y,w1)\n",
    "        #print(type(loss))\n",
    "        print(f\"The loss at the iteration {i} is {loss}\")\n",
    "        loss_list.append(loss)\n",
    "        w = w1\n",
    "    return w, loss_list       "
   ]
  },
  {
   "cell_type": "code",
   "execution_count": 90,
   "metadata": {},
   "outputs": [
    {
     "name": "stdout",
     "output_type": "stream",
     "text": [
      "The loss at the iteration 0 is 19846487339.70803\n",
      "The loss at the iteration 1 is 18090072040.853733\n",
      "The loss at the iteration 2 is 17069394833.459301\n",
      "The loss at the iteration 3 is 16445814234.863384\n",
      "The loss at the iteration 4 is 16040081740.12289\n",
      "The loss at the iteration 5 is 15756765990.080154\n",
      "The loss at the iteration 6 is 15544614542.909027\n",
      "The loss at the iteration 7 is 15375743527.297544\n",
      "The loss at the iteration 8 is 15234695619.772911\n",
      "The loss at the iteration 9 is 15112673730.443192\n",
      "The loss at the iteration 10 is 15004491899.113312\n",
      "The loss at the iteration 11 is 14906954815.182676\n",
      "The loss at the iteration 12 is 14817990127.5721\n",
      "The loss at the iteration 13 is 14736178740.147705\n",
      "The loss at the iteration 14 is 14660496552.701761\n",
      "The loss at the iteration 15 is 14590169359.177969\n",
      "The loss at the iteration 16 is 14524588946.022175\n",
      "The loss at the iteration 17 is 14463262792.15754\n",
      "The loss at the iteration 18 is 14405782606.301582\n",
      "The loss at the iteration 19 is 14351803721.276665\n",
      "The loss at the iteration 20 is 14301030967.934607\n",
      "The loss at the iteration 21 is 14253208578.28827\n",
      "The loss at the iteration 22 is 14208112708.545036\n",
      "The loss at the iteration 23 is 14165545743.392677\n",
      "The loss at the iteration 24 is 14125331861.980999\n",
      "The loss at the iteration 25 is 14087313529.266663\n",
      "The loss at the iteration 26 is 14051348685.180788\n",
      "The loss at the iteration 27 is 14017308471.28845\n",
      "The loss at the iteration 28 is 13985075377.973171\n",
      "The loss at the iteration 29 is 13954541724.410479\n",
      "The loss at the iteration 30 is 13925608404.115438\n",
      "The loss at the iteration 31 is 13898183843.765125\n",
      "The loss at the iteration 32 is 13872183134.146809\n",
      "The loss at the iteration 33 is 13847527300.596323\n",
      "The loss at the iteration 34 is 13824142686.894432\n",
      "The loss at the iteration 35 is 13801960431.768387\n",
      "The loss at the iteration 36 is 13780916021.240467\n",
      "The loss at the iteration 37 is 13760948903.320793\n",
      "The loss at the iteration 38 is 13742002154.139969\n",
      "The loss at the iteration 39 is 13724022186.697512\n",
      "The loss at the iteration 40 is 13706958495.07086\n",
      "The loss at the iteration 41 is 13690763428.271194\n",
      "The loss at the iteration 42 is 13675391989.011976\n",
      "The loss at the iteration 43 is 13660801653.52639\n",
      "The loss at the iteration 44 is 13646952209.27195\n",
      "The loss at the iteration 45 is 13633805607.927961\n",
      "The loss at the iteration 46 is 13621325831.550406\n",
      "The loss at the iteration 47 is 13609478770.12056\n",
      "The loss at the iteration 48 is 13598232109.025196\n",
      "The loss at the iteration 49 is 13587555225.251202\n",
      "The loss at the iteration 50 is 13577419091.276693\n",
      "The loss at the iteration 51 is 13567796185.803413\n",
      "The loss at the iteration 52 is 13558660410.607824\n",
      "The loss at the iteration 53 is 13549987012.897253\n",
      "The loss at the iteration 54 is 13541752512.646576\n",
      "The loss at the iteration 55 is 13533934634.464634\n",
      "The loss at the iteration 56 is 13526512243.600307\n",
      "The loss at the iteration 57 is 13519465285.74852\n",
      "The loss at the iteration 58 is 13512774730.358524\n",
      "The loss at the iteration 59 is 13506422517.181763\n",
      "The loss at the iteration 60 is 13500391505.826216\n",
      "The loss at the iteration 61 is 13494665428.108906\n",
      "The loss at the iteration 62 is 13489228843.019516\n",
      "The loss at the iteration 63 is 13484067094.125929\n",
      "The loss at the iteration 64 is 13479166269.268196\n",
      "The loss at the iteration 65 is 13474513162.400656\n",
      "The loss at the iteration 66 is 13470095237.453728\n",
      "The loss at the iteration 67 is 13465900594.097013\n",
      "The loss at the iteration 68 is 13461917935.294323\n",
      "The loss at the iteration 69 is 13458136536.549263\n",
      "The loss at the iteration 70 is 13454546216.747131\n",
      "The loss at the iteration 71 is 13451137310.505127\n",
      "The loss at the iteration 72 is 13447900641.948814\n",
      "The loss at the iteration 73 is 13444827499.837809\n",
      "The loss at the iteration 74 is 13441909613.968601\n",
      "The loss at the iteration 75 is 13439139132.786621\n",
      "The loss at the iteration 76 is 13436508602.14375\n",
      "The loss at the iteration 77 is 13434010945.141163\n",
      "The loss at the iteration 78 is 13431639443.000803\n",
      "The loss at the iteration 79 is 13429387716.911968\n",
      "The loss at the iteration 80 is 13427249710.802456\n",
      "The loss at the iteration 81 is 13425219674.986496\n",
      "The loss at the iteration 82 is 13423292150.644268\n",
      "The loss at the iteration 83 is 13421461955.090227\n",
      "The loss at the iteration 84 is 13419724167.789762\n",
      "The loss at the iteration 85 is 13418074117.085861\n",
      "The loss at the iteration 86 is 13416507367.599415\n",
      "The loss at the iteration 87 is 13415019708.268816\n",
      "The loss at the iteration 88 is 13413607140.996109\n",
      "The loss at the iteration 89 is 13412265869.868898\n",
      "The loss at the iteration 90 is 13410992290.928602\n",
      "The loss at the iteration 91 is 13409782982.457253\n",
      "The loss at the iteration 92 is 13408634695.756466\n",
      "The loss at the iteration 93 is 13407544346.393614\n",
      "The loss at the iteration 94 is 13406509005.891338\n",
      "The loss at the iteration 95 is 13405525893.838034\n",
      "The loss at the iteration 96 is 13404592370.397797\n",
      "The loss at the iteration 97 is 13403705929.199661\n",
      "The loss at the iteration 98 is 13402864190.586815\n",
      "The loss at the iteration 99 is 13402064895.207586\n",
      "The loss at the iteration 100 is 13401305897.930803\n",
      "The loss at the iteration 101 is 13400585162.069187\n",
      "The loss at the iteration 102 is 13399900753.895012\n",
      "The loss at the iteration 103 is 13399250837.433405\n",
      "The loss at the iteration 104 is 13398633669.519033\n",
      "The loss at the iteration 105 is 13398047595.102978\n",
      "The loss at the iteration 106 is 13397491042.79704\n",
      "The loss at the iteration 107 is 13396962520.643482\n",
      "The loss at the iteration 108 is 13396460612.09878\n",
      "The loss at the iteration 109 is 13395983972.220558\n",
      "The loss at the iteration 110 is 13395531324.047403\n",
      "The loss at the iteration 111 is 13395101455.161802\n",
      "The loss at the iteration 112 is 13394693214.426952\n",
      "The loss at the iteration 113 is 13394305508.888569\n",
      "The loss at the iteration 114 is 13393937300.833473\n",
      "The loss at the iteration 115 is 13393587604.996864\n",
      "The loss at the iteration 116 is 13393255485.910881\n",
      "The loss at the iteration 117 is 13392940055.387228\n",
      "The loss at the iteration 118 is 13392640470.127121\n",
      "The loss at the iteration 119 is 13392355929.452085\n",
      "The loss at the iteration 120 is 13392085673.149511\n",
      "The loss at the iteration 121 is 13391828979.427132\n",
      "The loss at the iteration 122 is 13391585162.970959\n",
      "The loss at the iteration 123 is 13391353573.101383\n",
      "The loss at the iteration 124 is 13391133592.022545\n",
      "The loss at the iteration 125 is 13390924633.160189\n",
      "The loss at the iteration 126 is 13390726139.583546\n",
      "The loss at the iteration 127 is 13390537582.50704\n",
      "The loss at the iteration 128 is 13390358459.867725\n",
      "The loss at the iteration 129 is 13390188294.97461\n",
      "The loss at the iteration 130 is 13390026635.226334\n",
      "The loss at the iteration 131 is 13389873050.893597\n",
      "The loss at the iteration 132 is 13389727133.963213\n",
      "The loss at the iteration 133 is 13389588497.04051\n",
      "The loss at the iteration 134 is 13389456772.307316\n",
      "The loss at the iteration 135 is 13389331610.532532\n",
      "The loss at the iteration 136 is 13389212680.13278\n",
      "The loss at the iteration 137 is 13389099666.2805\n",
      "The loss at the iteration 138 is 13388992270.057144\n",
      "The loss at the iteration 139 is 13388890207.649166\n",
      "The loss at the iteration 140 is 13388793209.584656\n",
      "The loss at the iteration 141 is 13388701020.008574\n",
      "The loss at the iteration 142 is 13388613395.99457\n",
      "The loss at the iteration 143 is 13388530106.891655\n",
      "The loss at the iteration 144 is 13388450933.703838\n",
      "The loss at the iteration 145 is 13388375668.501133\n",
      "The loss at the iteration 146 is 13388304113.860361\n",
      "The loss at the iteration 147 is 13388236082.334173\n",
      "The loss at the iteration 148 is 13388171395.946932\n",
      "The loss at the iteration 149 is 13388109885.71608\n",
      "The loss at the iteration 150 is 13388051391.197681\n",
      "The loss at the iteration 151 is 13387995760.054935\n",
      "The loss at the iteration 152 is 13387942847.648506\n",
      "The loss at the iteration 153 is 13387892516.647545\n",
      "The loss at the iteration 154 is 13387844636.660366\n",
      "The loss at the iteration 155 is 13387799083.883818\n",
      "The loss at the iteration 156 is 13387755740.77033\n",
      "The loss at the iteration 157 is 13387714495.711832\n",
      "The loss at the iteration 158 is 13387675242.7396\n",
      "The loss at the iteration 159 is 13387637881.239302\n",
      "The loss at the iteration 160 is 13387602315.680445\n",
      "The loss at the iteration 161 is 13387568455.359478\n",
      "The loss at the iteration 162 is 13387536214.15588\n",
      "The loss at the iteration 163 is 13387505510.300589\n",
      "The loss at the iteration 164 is 13387476266.156113\n",
      "The loss at the iteration 165 is 13387448408.007778\n",
      "The loss at the iteration 166 is 13387421865.865488\n",
      "The loss at the iteration 167 is 13387396573.275537\n",
      "The loss at the iteration 168 is 13387372467.141924\n",
      "The loss at the iteration 169 is 13387349487.556671\n",
      "The loss at the iteration 170 is 13387327577.638763\n",
      "The loss at the iteration 171 is 13387306683.381172\n",
      "The loss at the iteration 172 is 13387286753.50566\n",
      "The loss at the iteration 173 is 13387267739.324879\n",
      "The loss at the iteration 174 is 13387249594.611483\n",
      "The loss at the iteration 175 is 13387232275.473795\n",
      "The loss at the iteration 176 is 13387215740.237825\n",
      "The loss at the iteration 177 is 13387199949.335184\n",
      "The loss at the iteration 178 is 13387184865.19672\n",
      "The loss at the iteration 179 is 13387170452.15148\n",
      "The loss at the iteration 180 is 13387156676.330812\n",
      "The loss at the iteration 181 is 13387143505.577293\n",
      "The loss at the iteration 182 is 13387130909.358269\n",
      "The loss at the iteration 183 is 13387118858.68375\n",
      "The loss at the iteration 184 is 13387107326.02849\n",
      "The loss at the iteration 185 is 13387096285.25794\n",
      "The loss at the iteration 186 is 13387085711.558014\n",
      "The loss at the iteration 187 is 13387075581.36835\n",
      "The loss at the iteration 188 is 13387065872.31897\n",
      "The loss at the iteration 189 is 13387056563.170143\n",
      "The loss at the iteration 190 is 13387047633.755255\n",
      "The loss at the iteration 191 is 13387039064.926605\n",
      "The loss at the iteration 192 is 13387030838.503937\n",
      "The loss at the iteration 193 is 13387022937.225521\n",
      "The loss at the iteration 194 is 13387015344.701777\n",
      "The loss at the iteration 195 is 13387008045.371181\n",
      "The loss at the iteration 196 is 13387001024.458464\n",
      "The loss at the iteration 197 is 13386994267.934845\n",
      "The loss at the iteration 198 is 13386987762.480335\n",
      "The loss at the iteration 199 is 13386981495.447931\n",
      "The loss at the iteration 200 is 13386975454.829596\n",
      "The loss at the iteration 201 is 13386969629.223986\n",
      "The loss at the iteration 202 is 13386964007.805786\n",
      "The loss at the iteration 203 is 13386958580.296627\n",
      "The loss at the iteration 204 is 13386953336.937424\n",
      "The loss at the iteration 205 is 13386948268.462158\n",
      "The loss at the iteration 206 is 13386943366.072952\n",
      "The loss at the iteration 207 is 13386938621.416437\n",
      "The loss at the iteration 208 is 13386934026.561268\n",
      "The loss at the iteration 209 is 13386929573.976818\n",
      "The loss at the iteration 210 is 13386925256.512918\n",
      "The loss at the iteration 211 is 13386921067.380657\n",
      "The loss at the iteration 212 is 13386917000.134106\n",
      "The loss at the iteration 213 is 13386913048.653002\n",
      "The loss at the iteration 214 is 13386909207.126284\n",
      "The loss at the iteration 215 is 13386905470.036484\n",
      "The loss at the iteration 216 is 13386901832.144875\n",
      "The loss at the iteration 217 is 13386898288.477417\n",
      "The loss at the iteration 218 is 13386894834.311348\n",
      "The loss at the iteration 219 is 13386891465.162504\n",
      "The loss at the iteration 220 is 13386888176.773277\n",
      "The loss at the iteration 221 is 13386884965.10115\n",
      "The loss at the iteration 222 is 13386881826.307835\n",
      "The loss at the iteration 223 is 13386878756.748962\n",
      "The loss at the iteration 224 is 13386875752.964264\n",
      "The loss at the iteration 225 is 13386872811.668291\n",
      "The loss at the iteration 226 is 13386869929.741577\n",
      "The loss at the iteration 227 is 13386867104.222242\n",
      "The loss at the iteration 228 is 13386864332.29804\n",
      "The loss at the iteration 229 is 13386861611.298794\n",
      "The loss at the iteration 230 is 13386858938.689228\n",
      "The loss at the iteration 231 is 13386856312.062126\n",
      "The loss at the iteration 232 is 13386853729.131893\n",
      "The loss at the iteration 233 is 13386851187.728403\n",
      "The loss at the iteration 234 is 13386848685.791138\n",
      "The loss at the iteration 235 is 13386846221.363682\n",
      "The loss at the iteration 236 is 13386843792.588448\n",
      "The loss at the iteration 237 is 13386841397.701683\n",
      "The loss at the iteration 238 is 13386839035.02874\n",
      "The loss at the iteration 239 is 13386836702.979555\n",
      "The loss at the iteration 240 is 13386834400.044386\n",
      "The loss at the iteration 241 is 13386832124.789768\n",
      "The loss at the iteration 242 is 13386829875.854624\n",
      "The loss at the iteration 243 is 13386827651.94664\n",
      "The loss at the iteration 244 is 13386825451.83878\n",
      "The loss at the iteration 245 is 13386823274.365982\n",
      "The loss at the iteration 246 is 13386821118.422035\n",
      "The loss at the iteration 247 is 13386818982.95661\n",
      "The loss at the iteration 248 is 13386816866.972408\n",
      "The loss at the iteration 249 is 13386814769.522526\n",
      "[[-270.8207545 ]\n",
      " [ 303.40253472]\n",
      " [ 290.66292301]\n",
      " [  17.31137494]\n",
      " [  -7.93525326]\n",
      " [  -2.23215593]\n",
      " [  -0.81402046]\n",
      " [ 123.14461506]\n",
      " [  -7.36791875]\n",
      " [   8.16137418]\n",
      " [  15.20786972]]\n"
     ]
    }
   ],
   "source": [
    "w1, l1 = gradient_descent(Xtrain,ytrain,0.1,250)\n",
    "print(w1)"
   ]
  },
  {
   "cell_type": "code",
   "execution_count": 91,
   "metadata": {},
   "outputs": [
    {
     "data": {
      "image/png": "[encoded data removed]",
      "text/plain": [
       "<Figure size 640x480 with 1 Axes>"
      ]
     },
     "metadata": {},
     "output_type": "display_data"
    }
   ],
   "source": [
    "import matplotlib.pyplot as plt\n",
    "#plot the loss function\n",
    "x = range(250)\n",
    "plt.plot(x,l1)\n",
    "plt.show()"
   ]
  },
  {
   "cell_type": "code",
   "execution_count": 92,
   "metadata": {},
   "outputs": [
    {
     "name": "stdout",
     "output_type": "stream",
     "text": [
      "The weights are:\n",
      " [[-270.8207545 ]\n",
      " [ 303.40253472]\n",
      " [ 290.66292301]\n",
      " [  17.31137494]\n",
      " [  -7.93525326]\n",
      " [  -2.23215593]\n",
      " [  -0.81402046]\n",
      " [ 123.14461506]\n",
      " [  -7.36791875]\n",
      " [   8.16137418]\n",
      " [  15.20786972]]\n"
     ]
    }
   ],
   "source": [
    "print(f\"The weights are:\\n {w1}\")"
   ]
  },
  {
   "cell_type": "code",
   "execution_count": 93,
   "metadata": {},
   "outputs": [],
   "source": [
    "def predict_lm(X,w):\n",
    "    yhat = X @ w \n",
    "    return yhat  "
   ]
  },
  {
   "cell_type": "code",
   "execution_count": 94,
   "metadata": {},
   "outputs": [
    {
     "data": {
      "text/plain": [
       "(80, 11)"
      ]
     },
     "execution_count": 94,
     "metadata": {},
     "output_type": "execute_result"
    }
   ],
   "source": [
    "Xtest.shape"
   ]
  },
  {
   "cell_type": "code",
   "execution_count": 95,
   "metadata": {},
   "outputs": [
    {
     "data": {
      "text/plain": [
       "pandas.core.series.Series"
      ]
     },
     "execution_count": 95,
     "metadata": {},
     "output_type": "execute_result"
    }
   ],
   "source": [
    "type(ytest)"
   ]
  },
  {
   "cell_type": "code",
   "execution_count": 96,
   "metadata": {},
   "outputs": [],
   "source": [
    "Index = ytest.index"
   ]
  },
  {
   "cell_type": "code",
   "execution_count": 97,
   "metadata": {},
   "outputs": [],
   "source": [
    "yhat = predict_lm(Xtest,w1)\n",
    "y_hat = pd.DataFrame(yhat,columns=[\"yhat\"],index=Index)  \n",
    "#print(y_hat)"
   ]
  },
  {
   "cell_type": "code",
   "execution_count": 98,
   "metadata": {},
   "outputs": [
    {
     "data": {
      "text/plain": [
       "numpy.ndarray"
      ]
     },
     "execution_count": 98,
     "metadata": {},
     "output_type": "execute_result"
    }
   ],
   "source": [
    "type(yhat)"
   ]
  },
  {
   "cell_type": "code",
   "execution_count": 99,
   "metadata": {},
   "outputs": [
    {
     "data": {
      "text/html": [
       "<div>\n",
       "<style scoped>\n",
       "    .dataframe tbody tr th:only-of-type {\n",
       "        vertical-align: middle;\n",
       "    }\n",
       "\n",
       "    .dataframe tbody tr th {\n",
       "        vertical-align: top;\n",
       "    }\n",
       "\n",
       "    .dataframe thead th {\n",
       "        text-align: right;\n",
       "    }\n",
       "</style>\n",
       "<table border=\"1\" class=\"dataframe\">\n",
       "  <thead>\n",
       "    <tr style=\"text-align: right;\">\n",
       "      <th></th>\n",
       "      <th>yhat</th>\n",
       "      <th>Balance</th>\n",
       "    </tr>\n",
       "  </thead>\n",
       "  <tbody>\n",
       "    <tr>\n",
       "      <th>133</th>\n",
       "      <td>322.039531</td>\n",
       "      <td>1018</td>\n",
       "    </tr>\n",
       "    <tr>\n",
       "      <th>56</th>\n",
       "      <td>-111.955830</td>\n",
       "      <td>379</td>\n",
       "    </tr>\n",
       "    <tr>\n",
       "      <th>179</th>\n",
       "      <td>522.809244</td>\n",
       "      <td>1237</td>\n",
       "    </tr>\n",
       "    <tr>\n",
       "      <th>345</th>\n",
       "      <td>-749.924244</td>\n",
       "      <td>0</td>\n",
       "    </tr>\n",
       "    <tr>\n",
       "      <th>169</th>\n",
       "      <td>411.678411</td>\n",
       "      <td>1099</td>\n",
       "    </tr>\n",
       "    <tr>\n",
       "      <th>...</th>\n",
       "      <td>...</td>\n",
       "      <td>...</td>\n",
       "    </tr>\n",
       "    <tr>\n",
       "      <th>26</th>\n",
       "      <td>86.472025</td>\n",
       "      <td>654</td>\n",
       "    </tr>\n",
       "    <tr>\n",
       "      <th>293</th>\n",
       "      <td>785.243354</td>\n",
       "      <td>1677</td>\n",
       "    </tr>\n",
       "    <tr>\n",
       "      <th>260</th>\n",
       "      <td>-142.833449</td>\n",
       "      <td>345</td>\n",
       "    </tr>\n",
       "    <tr>\n",
       "      <th>381</th>\n",
       "      <td>221.303688</td>\n",
       "      <td>849</td>\n",
       "    </tr>\n",
       "    <tr>\n",
       "      <th>208</th>\n",
       "      <td>-252.580569</td>\n",
       "      <td>230</td>\n",
       "    </tr>\n",
       "  </tbody>\n",
       "</table>\n",
       "<p>80 rows × 2 columns</p>\n",
       "</div>"
      ],
      "text/plain": [
       "           yhat  Balance\n",
       "133  322.039531     1018\n",
       "56  -111.955830      379\n",
       "179  522.809244     1237\n",
       "345 -749.924244        0\n",
       "169  411.678411     1099\n",
       "..          ...      ...\n",
       "26    86.472025      654\n",
       "293  785.243354     1677\n",
       "260 -142.833449      345\n",
       "381  221.303688      849\n",
       "208 -252.580569      230\n",
       "\n",
       "[80 rows x 2 columns]"
      ]
     },
     "execution_count": 99,
     "metadata": {},
     "output_type": "execute_result"
    }
   ],
   "source": [
    "#y_hat.merge(ytest.rename('ytest'), left_index=True, right_index=True)\n",
    "# If series is already named,\n",
    "y_hat.merge(ytest, left_index=True, right_index=True)"
   ]
  },
  {
   "cell_type": "markdown",
   "metadata": {},
   "source": [
    "### 4. Choosing Optimal Model: Subset Selection\n",
    "\n",
    "We not satisfied with the least square estimation for regression model due to the following reasons:\n",
    "- *Prediction Accuracy*: The estimates often has low bias but large variance. The prediction accuracy can be improved (sometimes) by shrinking or setting some parameters to zero.\n",
    "- *Interpretation*: With the large number of input features, we often would like to determine a smaller subset of features which exibits the strongest effects.    \n",
    "\n",
    "In this section, we discuss different approaches to variable subset selction with linear regression. There are three different strategies to choose the subset. Namely:\n",
    "- Best-Subset Selection\n",
    "- Forward-Stepwise Selection\n",
    "- Backward-Stepwise Selection\n",
    "\n",
    "**Best-Subset Selection**: Best subset regression finds for each $m\\in\\{0,1,2,\\ldots,k\\}$ the subset of size $m$ that gives smallest residual sum of squares (RSS). The question of how to choose $m$ involves the tradeoff between bias and variance.\n",
    "This is infeasible for $k>>40.$\n",
    "\n",
    "\n",
    "**Forward-Stepwise Selection**: Forward-stepwise selection starts with the intercept, and then sequentially adds into the model the predictor that most improves the fit. This method produces a sequence of models indexed by $m,$ the subset size.\n",
    "\n",
    "\n",
    "**Back-Stepwise Selection**: It starts with the full model, and sequential deletes the predictor that has the least impact (smallest Z-score) on the fit.  "
   ]
  },
  {
   "cell_type": "code",
   "execution_count": 100,
   "metadata": {},
   "outputs": [],
   "source": [
    "from sklearn.linear_model import LinearRegression \n",
    "from sklearn.metrics import mean_squared_error"
   ]
  },
  {
   "cell_type": "code",
   "execution_count": 101,
   "metadata": {},
   "outputs": [],
   "source": [
    "#Best selection method based on RSS\n",
    "#some helper function \n",
    "def fit_linear_reg(X,y):\n",
    "    #fit linear regression model and return RSS and r squared\n",
    "    model_k = LinearRegression()\n",
    "    model_k.fit(X,y)\n",
    "    RSS = mean_squared_error(y,model_k.predict(X))*len(y) \n",
    "    R_squared = model_k.score(X,y) \n",
    "    adj_R_squared = 1 - (1-R_squared)*(len(y)-1)/(len(y)-X.shape[1]-1)\n",
    "    return RSS, R_squared, adj_R_squared "
   ]
  },
  {
   "cell_type": "code",
   "execution_count": 107,
   "metadata": {},
   "outputs": [
    {
     "name": "stderr",
     "output_type": "stream",
     "text": [
      "\n",
      "\n",
      "\n",
      "\n",
      "\n",
      "\n",
      "\u001b[A\u001b[A\u001b[A\u001b[A\u001b[A\u001b[A\n",
      "\n",
      "\n",
      "\n",
      "\n",
      "\n",
      "\u001b[A\u001b[A\u001b[A\u001b[A\u001b[A\u001b[A\n",
      "\n",
      "\n",
      "\n",
      "\n",
      "\n",
      "\u001b[A\u001b[A\u001b[A\u001b[A\u001b[A\u001b[A\n",
      "\n",
      "\n",
      "\n",
      "\n",
      "\n",
      "\u001b[A\u001b[A\u001b[A\u001b[A\u001b[A\u001b[A\n",
      "\n",
      "\n",
      "\n",
      "\n",
      "\n",
      "\u001b[A\u001b[A\u001b[A\u001b[A\u001b[A\u001b[A\n",
      "\n",
      "\n",
      "\n",
      "\n",
      "\n",
      "\u001b[A\u001b[A\u001b[A\u001b[A\u001b[A\u001b[A\n",
      "\n",
      "\n",
      "\n",
      "\n",
      "\n",
      "\u001b[A\u001b[A\u001b[A\u001b[A\u001b[A\u001b[A\n",
      "\n",
      "\n",
      "\n",
      "\n",
      "\n",
      "\u001b[A\u001b[A\u001b[A\u001b[A\u001b[A\u001b[A\n",
      "\n",
      "\n",
      "\n",
      "\n",
      "\n",
      "Loop...: 100%|██████████| 11/11 [00:10<00:00,  1.08it/s]\n"
     ]
    }
   ],
   "source": [
    "#import tqdm for progress bar \n",
    "from tqdm import trange, tqdm_notebook\n",
    "from tqdm.notebook import tnrange\n",
    "import itertools\n",
    "\n",
    "#Initialize variables \n",
    "y = credit.Balance\n",
    "X = credit.drop(columns='Balance',axis=1) \n",
    "\n",
    "m = 11\n",
    "\n",
    "RSS_list, R_squared_list, feature_list = [], [], []\n",
    "adj_R_squared_list = []\n",
    "numb_features = []\n",
    "\n",
    "#looping over m=1 to m=11 features in X\n",
    "#Looping over k = 1 to k = 11 features in X\n",
    "for k in trange(1,len(X.columns) + 1, desc = 'Loop...'):\n",
    "\n",
    "    #Looping over all possible combinations: from 11 choose k\n",
    "    for combo in itertools.combinations(X.columns,k):\n",
    "        tmp_result = fit_linear_reg(X[list(combo)],y)   #Store temp result \n",
    "        RSS_list.append(tmp_result[0])                  #Append lists\n",
    "        R_squared_list.append(tmp_result[1])\n",
    "        adj_R_squared_list.append(tmp_result[2])\n",
    "        feature_list.append(combo)\n",
    "        numb_features.append(len(combo))   \n",
    "\n",
    "#Store in DataFrame\n",
    "df = pd.DataFrame({'numb_features': numb_features,'RSS': RSS_list, 'R_squared':R_squared_list,'Adj_R_squared': adj_R_squared_list, 'features':feature_list})"
   ]
  },
  {
   "cell_type": "markdown",
   "metadata": {},
   "source": [
    "##### Find the best subsets using RSS"
   ]
  },
  {
   "cell_type": "code",
   "execution_count": 108,
   "metadata": {},
   "outputs": [
    {
     "data": {
      "text/html": [
       "<div>\n",
       "<style scoped>\n",
       "    .dataframe tbody tr th:only-of-type {\n",
       "        vertical-align: middle;\n",
       "    }\n",
       "\n",
       "    .dataframe tbody tr th {\n",
       "        vertical-align: top;\n",
       "    }\n",
       "\n",
       "    .dataframe thead th {\n",
       "        text-align: right;\n",
       "    }\n",
       "</style>\n",
       "<table border=\"1\" class=\"dataframe\">\n",
       "  <thead>\n",
       "    <tr style=\"text-align: right;\">\n",
       "      <th></th>\n",
       "      <th>numb_features</th>\n",
       "      <th>RSS</th>\n",
       "      <th>R_squared</th>\n",
       "      <th>Adj_R_squared</th>\n",
       "      <th>features</th>\n",
       "    </tr>\n",
       "  </thead>\n",
       "  <tbody>\n",
       "    <tr>\n",
       "      <th>0</th>\n",
       "      <td>1</td>\n",
       "      <td>6.620874e+07</td>\n",
       "      <td>0.214977</td>\n",
       "      <td>0.213005</td>\n",
       "      <td>(Income,)</td>\n",
       "    </tr>\n",
       "    <tr>\n",
       "      <th>1</th>\n",
       "      <td>1</td>\n",
       "      <td>2.171566e+07</td>\n",
       "      <td>0.742522</td>\n",
       "      <td>0.741875</td>\n",
       "      <td>(Limit,)</td>\n",
       "    </tr>\n",
       "    <tr>\n",
       "      <th>2</th>\n",
       "      <td>1</td>\n",
       "      <td>2.143512e+07</td>\n",
       "      <td>0.745848</td>\n",
       "      <td>0.745210</td>\n",
       "      <td>(Rating,)</td>\n",
       "    </tr>\n",
       "    <tr>\n",
       "      <th>3</th>\n",
       "      <td>1</td>\n",
       "      <td>8.370950e+07</td>\n",
       "      <td>0.007475</td>\n",
       "      <td>0.004981</td>\n",
       "      <td>(Cards,)</td>\n",
       "    </tr>\n",
       "    <tr>\n",
       "      <th>4</th>\n",
       "      <td>1</td>\n",
       "      <td>8.433963e+07</td>\n",
       "      <td>0.000003</td>\n",
       "      <td>-0.002509</td>\n",
       "      <td>(Age,)</td>\n",
       "    </tr>\n",
       "    <tr>\n",
       "      <th>...</th>\n",
       "      <td>...</td>\n",
       "      <td>...</td>\n",
       "      <td>...</td>\n",
       "      <td>...</td>\n",
       "      <td>...</td>\n",
       "    </tr>\n",
       "    <tr>\n",
       "      <th>2042</th>\n",
       "      <td>10</td>\n",
       "      <td>3.949432e+06</td>\n",
       "      <td>0.953172</td>\n",
       "      <td>0.951969</td>\n",
       "      <td>(Income, Limit, Rating, Age, Education, Own_Ye...</td>\n",
       "    </tr>\n",
       "    <tr>\n",
       "      <th>2043</th>\n",
       "      <td>10</td>\n",
       "      <td>3.839044e+06</td>\n",
       "      <td>0.954481</td>\n",
       "      <td>0.953311</td>\n",
       "      <td>(Income, Limit, Cards, Age, Education, Own_Yes...</td>\n",
       "    </tr>\n",
       "    <tr>\n",
       "      <th>2044</th>\n",
       "      <td>10</td>\n",
       "      <td>4.117780e+06</td>\n",
       "      <td>0.951176</td>\n",
       "      <td>0.949921</td>\n",
       "      <td>(Income, Rating, Cards, Age, Education, Own_Ye...</td>\n",
       "    </tr>\n",
       "    <tr>\n",
       "      <th>2045</th>\n",
       "      <td>10</td>\n",
       "      <td>1.461789e+07</td>\n",
       "      <td>0.826679</td>\n",
       "      <td>0.822223</td>\n",
       "      <td>(Limit, Rating, Cards, Age, Education, Own_Yes...</td>\n",
       "    </tr>\n",
       "    <tr>\n",
       "      <th>2046</th>\n",
       "      <td>11</td>\n",
       "      <td>3.786730e+06</td>\n",
       "      <td>0.955102</td>\n",
       "      <td>0.953829</td>\n",
       "      <td>(Income, Limit, Rating, Cards, Age, Education,...</td>\n",
       "    </tr>\n",
       "  </tbody>\n",
       "</table>\n",
       "<p>2047 rows × 5 columns</p>\n",
       "</div>"
      ],
      "text/plain": [
       "      numb_features           RSS  R_squared  Adj_R_squared  \\\n",
       "0                 1  6.620874e+07   0.214977       0.213005   \n",
       "1                 1  2.171566e+07   0.742522       0.741875   \n",
       "2                 1  2.143512e+07   0.745848       0.745210   \n",
       "3                 1  8.370950e+07   0.007475       0.004981   \n",
       "4                 1  8.433963e+07   0.000003      -0.002509   \n",
       "...             ...           ...        ...            ...   \n",
       "2042             10  3.949432e+06   0.953172       0.951969   \n",
       "2043             10  3.839044e+06   0.954481       0.953311   \n",
       "2044             10  4.117780e+06   0.951176       0.949921   \n",
       "2045             10  1.461789e+07   0.826679       0.822223   \n",
       "2046             11  3.786730e+06   0.955102       0.953829   \n",
       "\n",
       "                                               features  \n",
       "0                                             (Income,)  \n",
       "1                                              (Limit,)  \n",
       "2                                             (Rating,)  \n",
       "3                                              (Cards,)  \n",
       "4                                                (Age,)  \n",
       "...                                                 ...  \n",
       "2042  (Income, Limit, Rating, Age, Education, Own_Ye...  \n",
       "2043  (Income, Limit, Cards, Age, Education, Own_Yes...  \n",
       "2044  (Income, Rating, Cards, Age, Education, Own_Ye...  \n",
       "2045  (Limit, Rating, Cards, Age, Education, Own_Yes...  \n",
       "2046  (Income, Limit, Rating, Cards, Age, Education,...  \n",
       "\n",
       "[2047 rows x 5 columns]"
      ]
     },
     "execution_count": 108,
     "metadata": {},
     "output_type": "execute_result"
    }
   ],
   "source": [
    "df"
   ]
  },
  {
   "cell_type": "code",
   "execution_count": 109,
   "metadata": {},
   "outputs": [
    {
     "data": {
      "text/html": [
       "<div>\n",
       "<style scoped>\n",
       "    .dataframe tbody tr th:only-of-type {\n",
       "        vertical-align: middle;\n",
       "    }\n",
       "\n",
       "    .dataframe tbody tr th {\n",
       "        vertical-align: top;\n",
       "    }\n",
       "\n",
       "    .dataframe thead th {\n",
       "        text-align: right;\n",
       "    }\n",
       "</style>\n",
       "<table border=\"1\" class=\"dataframe\">\n",
       "  <thead>\n",
       "    <tr style=\"text-align: right;\">\n",
       "      <th></th>\n",
       "      <th>numb_features</th>\n",
       "      <th>RSS</th>\n",
       "      <th>R_squared</th>\n",
       "      <th>Adj_R_squared</th>\n",
       "      <th>features</th>\n",
       "    </tr>\n",
       "  </thead>\n",
       "  <tbody>\n",
       "    <tr>\n",
       "      <th>2</th>\n",
       "      <td>1</td>\n",
       "      <td>2.143512e+07</td>\n",
       "      <td>0.745848</td>\n",
       "      <td>0.745210</td>\n",
       "      <td>(Rating,)</td>\n",
       "    </tr>\n",
       "    <tr>\n",
       "      <th>12</th>\n",
       "      <td>2</td>\n",
       "      <td>1.053254e+07</td>\n",
       "      <td>0.875118</td>\n",
       "      <td>0.874489</td>\n",
       "      <td>(Income, Rating)</td>\n",
       "    </tr>\n",
       "    <tr>\n",
       "      <th>79</th>\n",
       "      <td>3</td>\n",
       "      <td>4.227219e+06</td>\n",
       "      <td>0.949879</td>\n",
       "      <td>0.949499</td>\n",
       "      <td>(Income, Rating, Student_Yes)</td>\n",
       "    </tr>\n",
       "    <tr>\n",
       "      <th>242</th>\n",
       "      <td>4</td>\n",
       "      <td>3.915058e+06</td>\n",
       "      <td>0.953580</td>\n",
       "      <td>0.953110</td>\n",
       "      <td>(Income, Limit, Cards, Student_Yes)</td>\n",
       "    </tr>\n",
       "    <tr>\n",
       "      <th>564</th>\n",
       "      <td>5</td>\n",
       "      <td>3.866091e+06</td>\n",
       "      <td>0.954161</td>\n",
       "      <td>0.953579</td>\n",
       "      <td>(Income, Limit, Rating, Cards, Student_Yes)</td>\n",
       "    </tr>\n",
       "  </tbody>\n",
       "</table>\n",
       "</div>"
      ],
      "text/plain": [
       "     numb_features           RSS  R_squared  Adj_R_squared  \\\n",
       "2                1  2.143512e+07   0.745848       0.745210   \n",
       "12               2  1.053254e+07   0.875118       0.874489   \n",
       "79               3  4.227219e+06   0.949879       0.949499   \n",
       "242              4  3.915058e+06   0.953580       0.953110   \n",
       "564              5  3.866091e+06   0.954161       0.953579   \n",
       "\n",
       "                                        features  \n",
       "2                                      (Rating,)  \n",
       "12                              (Income, Rating)  \n",
       "79                 (Income, Rating, Student_Yes)  \n",
       "242          (Income, Limit, Cards, Student_Yes)  \n",
       "564  (Income, Limit, Rating, Cards, Student_Yes)  "
      ]
     },
     "metadata": {},
     "output_type": "display_data"
    },
    {
     "data": {
      "text/html": [
       "<div>\n",
       "<style scoped>\n",
       "    .dataframe tbody tr th:only-of-type {\n",
       "        vertical-align: middle;\n",
       "    }\n",
       "\n",
       "    .dataframe tbody tr th {\n",
       "        vertical-align: top;\n",
       "    }\n",
       "\n",
       "    .dataframe thead th {\n",
       "        text-align: right;\n",
       "    }\n",
       "</style>\n",
       "<table border=\"1\" class=\"dataframe\">\n",
       "  <thead>\n",
       "    <tr style=\"text-align: right;\">\n",
       "      <th></th>\n",
       "      <th>numb_features</th>\n",
       "      <th>RSS</th>\n",
       "      <th>R_squared</th>\n",
       "      <th>Adj_R_squared</th>\n",
       "      <th>features</th>\n",
       "    </tr>\n",
       "  </thead>\n",
       "  <tbody>\n",
       "    <tr>\n",
       "      <th>2</th>\n",
       "      <td>1</td>\n",
       "      <td>2.143512e+07</td>\n",
       "      <td>0.745848</td>\n",
       "      <td>0.745210</td>\n",
       "      <td>(Rating,)</td>\n",
       "    </tr>\n",
       "    <tr>\n",
       "      <th>12</th>\n",
       "      <td>2</td>\n",
       "      <td>1.053254e+07</td>\n",
       "      <td>0.875118</td>\n",
       "      <td>0.874489</td>\n",
       "      <td>(Income, Rating)</td>\n",
       "    </tr>\n",
       "    <tr>\n",
       "      <th>79</th>\n",
       "      <td>3</td>\n",
       "      <td>4.227219e+06</td>\n",
       "      <td>0.949879</td>\n",
       "      <td>0.949499</td>\n",
       "      <td>(Income, Rating, Student_Yes)</td>\n",
       "    </tr>\n",
       "    <tr>\n",
       "      <th>242</th>\n",
       "      <td>4</td>\n",
       "      <td>3.915058e+06</td>\n",
       "      <td>0.953580</td>\n",
       "      <td>0.953110</td>\n",
       "      <td>(Income, Limit, Cards, Student_Yes)</td>\n",
       "    </tr>\n",
       "    <tr>\n",
       "      <th>564</th>\n",
       "      <td>5</td>\n",
       "      <td>3.866091e+06</td>\n",
       "      <td>0.954161</td>\n",
       "      <td>0.953579</td>\n",
       "      <td>(Income, Limit, Rating, Cards, Student_Yes)</td>\n",
       "    </tr>\n",
       "    <tr>\n",
       "      <th>1025</th>\n",
       "      <td>6</td>\n",
       "      <td>3.821620e+06</td>\n",
       "      <td>0.954688</td>\n",
       "      <td>0.953996</td>\n",
       "      <td>(Income, Limit, Rating, Cards, Age, Student_Yes)</td>\n",
       "    </tr>\n",
       "    <tr>\n",
       "      <th>1490</th>\n",
       "      <td>7</td>\n",
       "      <td>3.810759e+06</td>\n",
       "      <td>0.954817</td>\n",
       "      <td>0.954010</td>\n",
       "      <td>(Income, Limit, Rating, Cards, Age, Own_Yes, S...</td>\n",
       "    </tr>\n",
       "    <tr>\n",
       "      <th>1827</th>\n",
       "      <td>8</td>\n",
       "      <td>3.804746e+06</td>\n",
       "      <td>0.954888</td>\n",
       "      <td>0.953965</td>\n",
       "      <td>(Income, Limit, Rating, Cards, Age, Own_Yes, S...</td>\n",
       "    </tr>\n",
       "    <tr>\n",
       "      <th>1991</th>\n",
       "      <td>9</td>\n",
       "      <td>3.798367e+06</td>\n",
       "      <td>0.954964</td>\n",
       "      <td>0.953924</td>\n",
       "      <td>(Income, Limit, Rating, Cards, Age, Own_Yes, S...</td>\n",
       "    </tr>\n",
       "    <tr>\n",
       "      <th>2040</th>\n",
       "      <td>10</td>\n",
       "      <td>3.791345e+06</td>\n",
       "      <td>0.955047</td>\n",
       "      <td>0.953891</td>\n",
       "      <td>(Income, Limit, Rating, Cards, Age, Own_Yes, S...</td>\n",
       "    </tr>\n",
       "  </tbody>\n",
       "</table>\n",
       "</div>"
      ],
      "text/plain": [
       "      numb_features           RSS  R_squared  Adj_R_squared  \\\n",
       "2                 1  2.143512e+07   0.745848       0.745210   \n",
       "12                2  1.053254e+07   0.875118       0.874489   \n",
       "79                3  4.227219e+06   0.949879       0.949499   \n",
       "242               4  3.915058e+06   0.953580       0.953110   \n",
       "564               5  3.866091e+06   0.954161       0.953579   \n",
       "1025              6  3.821620e+06   0.954688       0.953996   \n",
       "1490              7  3.810759e+06   0.954817       0.954010   \n",
       "1827              8  3.804746e+06   0.954888       0.953965   \n",
       "1991              9  3.798367e+06   0.954964       0.953924   \n",
       "2040             10  3.791345e+06   0.955047       0.953891   \n",
       "\n",
       "                                               features  \n",
       "2                                             (Rating,)  \n",
       "12                                     (Income, Rating)  \n",
       "79                        (Income, Rating, Student_Yes)  \n",
       "242                 (Income, Limit, Cards, Student_Yes)  \n",
       "564         (Income, Limit, Rating, Cards, Student_Yes)  \n",
       "1025   (Income, Limit, Rating, Cards, Age, Student_Yes)  \n",
       "1490  (Income, Limit, Rating, Cards, Age, Own_Yes, S...  \n",
       "1827  (Income, Limit, Rating, Cards, Age, Own_Yes, S...  \n",
       "1991  (Income, Limit, Rating, Cards, Age, Own_Yes, S...  \n",
       "2040  (Income, Limit, Rating, Cards, Age, Own_Yes, S...  "
      ]
     },
     "metadata": {},
     "output_type": "display_data"
    }
   ],
   "source": [
    "df_min = df[df.groupby('numb_features')['RSS'].transform(min) == df['RSS']]\n",
    "df_max = df[df.groupby('numb_features')['R_squared'].transform(max) == df['R_squared']]\n",
    "df_max_adj = df[df.groupby('numb_features')['Adj_R_squared'].transform(max) == df['Adj_R_squared']]\n",
    "display(df_min.head())\n",
    "display(df_max_adj.head(10))"
   ]
  },
  {
   "cell_type": "code",
   "execution_count": 110,
   "metadata": {},
   "outputs": [
    {
     "data": {
      "text/html": [
       "<div>\n",
       "<style scoped>\n",
       "    .dataframe tbody tr th:only-of-type {\n",
       "        vertical-align: middle;\n",
       "    }\n",
       "\n",
       "    .dataframe tbody tr th {\n",
       "        vertical-align: top;\n",
       "    }\n",
       "\n",
       "    .dataframe thead th {\n",
       "        text-align: right;\n",
       "    }\n",
       "</style>\n",
       "<table border=\"1\" class=\"dataframe\">\n",
       "  <thead>\n",
       "    <tr style=\"text-align: right;\">\n",
       "      <th></th>\n",
       "      <th>numb_features</th>\n",
       "      <th>RSS</th>\n",
       "      <th>R_squared</th>\n",
       "      <th>Adj_R_squared</th>\n",
       "      <th>features</th>\n",
       "      <th>min_RSS</th>\n",
       "      <th>max_R_squared</th>\n",
       "    </tr>\n",
       "  </thead>\n",
       "  <tbody>\n",
       "    <tr>\n",
       "      <th>0</th>\n",
       "      <td>1</td>\n",
       "      <td>6.620874e+07</td>\n",
       "      <td>0.214977</td>\n",
       "      <td>0.213005</td>\n",
       "      <td>(Income,)</td>\n",
       "      <td>2.143512e+07</td>\n",
       "      <td>0.745848</td>\n",
       "    </tr>\n",
       "    <tr>\n",
       "      <th>1</th>\n",
       "      <td>1</td>\n",
       "      <td>2.171566e+07</td>\n",
       "      <td>0.742522</td>\n",
       "      <td>0.741875</td>\n",
       "      <td>(Limit,)</td>\n",
       "      <td>2.143512e+07</td>\n",
       "      <td>0.745848</td>\n",
       "    </tr>\n",
       "    <tr>\n",
       "      <th>2</th>\n",
       "      <td>1</td>\n",
       "      <td>2.143512e+07</td>\n",
       "      <td>0.745848</td>\n",
       "      <td>0.745210</td>\n",
       "      <td>(Rating,)</td>\n",
       "      <td>2.143512e+07</td>\n",
       "      <td>0.745848</td>\n",
       "    </tr>\n",
       "    <tr>\n",
       "      <th>3</th>\n",
       "      <td>1</td>\n",
       "      <td>8.370950e+07</td>\n",
       "      <td>0.007475</td>\n",
       "      <td>0.004981</td>\n",
       "      <td>(Cards,)</td>\n",
       "      <td>2.143512e+07</td>\n",
       "      <td>0.745848</td>\n",
       "    </tr>\n",
       "    <tr>\n",
       "      <th>4</th>\n",
       "      <td>1</td>\n",
       "      <td>8.433963e+07</td>\n",
       "      <td>0.000003</td>\n",
       "      <td>-0.002509</td>\n",
       "      <td>(Age,)</td>\n",
       "      <td>2.143512e+07</td>\n",
       "      <td>0.745848</td>\n",
       "    </tr>\n",
       "  </tbody>\n",
       "</table>\n",
       "</div>"
      ],
      "text/plain": [
       "   numb_features           RSS  R_squared  Adj_R_squared   features  \\\n",
       "0              1  6.620874e+07   0.214977       0.213005  (Income,)   \n",
       "1              1  2.171566e+07   0.742522       0.741875   (Limit,)   \n",
       "2              1  2.143512e+07   0.745848       0.745210  (Rating,)   \n",
       "3              1  8.370950e+07   0.007475       0.004981   (Cards,)   \n",
       "4              1  8.433963e+07   0.000003      -0.002509     (Age,)   \n",
       "\n",
       "        min_RSS  max_R_squared  \n",
       "0  2.143512e+07       0.745848  \n",
       "1  2.143512e+07       0.745848  \n",
       "2  2.143512e+07       0.745848  \n",
       "3  2.143512e+07       0.745848  \n",
       "4  2.143512e+07       0.745848  "
      ]
     },
     "execution_count": 110,
     "metadata": {},
     "output_type": "execute_result"
    }
   ],
   "source": [
    "df['min_RSS'] = df.groupby('numb_features')['RSS'].transform(min)\n",
    "df['max_R_squared'] = df.groupby('numb_features')['R_squared'].transform(max)\n",
    "df.head()"
   ]
  },
  {
   "cell_type": "code",
   "execution_count": 111,
   "metadata": {},
   "outputs": [
    {
     "data": {
      "text/html": [
       "<div>\n",
       "<style scoped>\n",
       "    .dataframe tbody tr th:only-of-type {\n",
       "        vertical-align: middle;\n",
       "    }\n",
       "\n",
       "    .dataframe tbody tr th {\n",
       "        vertical-align: top;\n",
       "    }\n",
       "\n",
       "    .dataframe thead th {\n",
       "        text-align: right;\n",
       "    }\n",
       "</style>\n",
       "<table border=\"1\" class=\"dataframe\">\n",
       "  <thead>\n",
       "    <tr style=\"text-align: right;\">\n",
       "      <th></th>\n",
       "      <th>numb_features</th>\n",
       "      <th>RSS</th>\n",
       "      <th>R_squared</th>\n",
       "      <th>Adj_R_squared</th>\n",
       "      <th>features</th>\n",
       "      <th>min_RSS</th>\n",
       "      <th>max_R_squared</th>\n",
       "      <th>max_Adj_R_squared</th>\n",
       "    </tr>\n",
       "  </thead>\n",
       "  <tbody>\n",
       "    <tr>\n",
       "      <th>0</th>\n",
       "      <td>1</td>\n",
       "      <td>6.620874e+07</td>\n",
       "      <td>0.214977</td>\n",
       "      <td>0.213005</td>\n",
       "      <td>(Income,)</td>\n",
       "      <td>2.143512e+07</td>\n",
       "      <td>0.745848</td>\n",
       "      <td>0.74521</td>\n",
       "    </tr>\n",
       "    <tr>\n",
       "      <th>1</th>\n",
       "      <td>1</td>\n",
       "      <td>2.171566e+07</td>\n",
       "      <td>0.742522</td>\n",
       "      <td>0.741875</td>\n",
       "      <td>(Limit,)</td>\n",
       "      <td>2.143512e+07</td>\n",
       "      <td>0.745848</td>\n",
       "      <td>0.74521</td>\n",
       "    </tr>\n",
       "    <tr>\n",
       "      <th>2</th>\n",
       "      <td>1</td>\n",
       "      <td>2.143512e+07</td>\n",
       "      <td>0.745848</td>\n",
       "      <td>0.745210</td>\n",
       "      <td>(Rating,)</td>\n",
       "      <td>2.143512e+07</td>\n",
       "      <td>0.745848</td>\n",
       "      <td>0.74521</td>\n",
       "    </tr>\n",
       "    <tr>\n",
       "      <th>3</th>\n",
       "      <td>1</td>\n",
       "      <td>8.370950e+07</td>\n",
       "      <td>0.007475</td>\n",
       "      <td>0.004981</td>\n",
       "      <td>(Cards,)</td>\n",
       "      <td>2.143512e+07</td>\n",
       "      <td>0.745848</td>\n",
       "      <td>0.74521</td>\n",
       "    </tr>\n",
       "    <tr>\n",
       "      <th>4</th>\n",
       "      <td>1</td>\n",
       "      <td>8.433963e+07</td>\n",
       "      <td>0.000003</td>\n",
       "      <td>-0.002509</td>\n",
       "      <td>(Age,)</td>\n",
       "      <td>2.143512e+07</td>\n",
       "      <td>0.745848</td>\n",
       "      <td>0.74521</td>\n",
       "    </tr>\n",
       "  </tbody>\n",
       "</table>\n",
       "</div>"
      ],
      "text/plain": [
       "   numb_features           RSS  R_squared  Adj_R_squared   features  \\\n",
       "0              1  6.620874e+07   0.214977       0.213005  (Income,)   \n",
       "1              1  2.171566e+07   0.742522       0.741875   (Limit,)   \n",
       "2              1  2.143512e+07   0.745848       0.745210  (Rating,)   \n",
       "3              1  8.370950e+07   0.007475       0.004981   (Cards,)   \n",
       "4              1  8.433963e+07   0.000003      -0.002509     (Age,)   \n",
       "\n",
       "        min_RSS  max_R_squared  max_Adj_R_squared  \n",
       "0  2.143512e+07       0.745848            0.74521  \n",
       "1  2.143512e+07       0.745848            0.74521  \n",
       "2  2.143512e+07       0.745848            0.74521  \n",
       "3  2.143512e+07       0.745848            0.74521  \n",
       "4  2.143512e+07       0.745848            0.74521  "
      ]
     },
     "execution_count": 111,
     "metadata": {},
     "output_type": "execute_result"
    }
   ],
   "source": [
    "df['min_RSS'] = df.groupby('numb_features')['RSS'].transform(min)\n",
    "df['max_R_squared'] = df.groupby('numb_features')['R_squared'].transform(max)\n",
    "df['max_Adj_R_squared'] = df.groupby('numb_features')['Adj_R_squared'].transform(max)\n",
    "df.head()"
   ]
  },
  {
   "cell_type": "code",
   "execution_count": 112,
   "metadata": {},
   "outputs": [
    {
     "data": {
      "image/png": "[encoded data removed]",
      "text/plain": [
       "<Figure size 1600x600 with 2 Axes>"
      ]
     },
     "metadata": {},
     "output_type": "display_data"
    }
   ],
   "source": [
    "import matplotlib.pyplot as plt\n",
    "\n",
    "fig = plt.figure(figsize = (16,6))\n",
    "ax = fig.add_subplot(1, 2, 1)\n",
    "\n",
    "ax.scatter(df.numb_features,df.RSS, alpha = .2, color = 'darkblue' )\n",
    "ax.set_xlabel('# Features')\n",
    "ax.set_ylabel('RSS')\n",
    "ax.set_title('RSS - Best subset selection')\n",
    "ax.plot(df.numb_features,df.min_RSS,color = 'r', label = 'Best subset')\n",
    "ax.legend()\n",
    "\n",
    "ax = fig.add_subplot(1, 2, 2)\n",
    "ax.scatter(df.numb_features,df.Adj_R_squared, alpha = .2, color = 'darkblue' )\n",
    "ax.plot(df.numb_features,df.max_Adj_R_squared,color = 'r', label = 'Best subset')\n",
    "ax.set_xlabel('# Features')\n",
    "ax.set_ylabel('Aj R squared')\n",
    "ax.set_title('Adj_R_squared - Best subset selection')\n",
    "ax.legend()\n",
    "\n",
    "plt.show()"
   ]
  },
  {
   "cell_type": "markdown",
   "metadata": {},
   "source": [
    "By observing these plots we can choose $m=6.$ Thus the features part of the linear regression model will be `(Income, Limit, Rating, Cards, Age, Student_Yes)`"
   ]
  },
  {
   "cell_type": "code",
   "execution_count": 113,
   "metadata": {},
   "outputs": [
    {
     "name": "stderr",
     "output_type": "stream",
     "text": [
      "Exception ignored in: <function tqdm.__del__ at 0x0000029AF8D31A20>\n",
      "Traceback (most recent call last):\n",
      "  File \"c:\\Users\\Sampath\\AppData\\Local\\Programs\\Python\\Python310\\lib\\site-packages\\tqdm\\std.py\", line 1162, in __del__\n",
      "    self.close()\n",
      "  File \"c:\\Users\\Sampath\\AppData\\Local\\Programs\\Python\\Python310\\lib\\site-packages\\tqdm\\notebook.py\", line 287, in close\n",
      "    self.disp(bar_style='danger', check_delay=False)\n",
      "AttributeError: 'tqdm_notebook' object has no attribute 'disp'\n",
      "Exception ignored in: <function tqdm.__del__ at 0x0000029AF8D31A20>\n",
      "Traceback (most recent call last):\n",
      "  File \"c:\\Users\\Sampath\\AppData\\Local\\Programs\\Python\\Python310\\lib\\site-packages\\tqdm\\std.py\", line 1162, in __del__\n",
      "    self.close()\n",
      "  File \"c:\\Users\\Sampath\\AppData\\Local\\Programs\\Python\\Python310\\lib\\site-packages\\tqdm\\notebook.py\", line 287, in close\n",
      "    self.disp(bar_style='danger', check_delay=False)\n",
      "AttributeError: 'tqdm_notebook' object has no attribute 'disp'\n",
      "Exception ignored in: <function tqdm.__del__ at 0x0000029AF8D31A20>\n",
      "Traceback (most recent call last):\n",
      "  File \"c:\\Users\\Sampath\\AppData\\Local\\Programs\\Python\\Python310\\lib\\site-packages\\tqdm\\std.py\", line 1162, in __del__\n",
      "    self.close()\n",
      "  File \"c:\\Users\\Sampath\\AppData\\Local\\Programs\\Python\\Python310\\lib\\site-packages\\tqdm\\notebook.py\", line 287, in close\n",
      "    self.disp(bar_style='danger', check_delay=False)\n",
      "AttributeError: 'tqdm_notebook' object has no attribute 'disp'\n",
      "Exception ignored in: <function tqdm.__del__ at 0x0000029AF8D31A20>\n",
      "Traceback (most recent call last):\n",
      "  File \"c:\\Users\\Sampath\\AppData\\Local\\Programs\\Python\\Python310\\lib\\site-packages\\tqdm\\std.py\", line 1162, in __del__\n",
      "    self.close()\n",
      "  File \"c:\\Users\\Sampath\\AppData\\Local\\Programs\\Python\\Python310\\lib\\site-packages\\tqdm\\notebook.py\", line 287, in close\n",
      "    self.disp(bar_style='danger', check_delay=False)\n",
      "AttributeError: 'tqdm_notebook' object has no attribute 'disp'\n",
      "Exception ignored in: <function tqdm.__del__ at 0x0000029AF8D31A20>\n",
      "Traceback (most recent call last):\n",
      "  File \"c:\\Users\\Sampath\\AppData\\Local\\Programs\\Python\\Python310\\lib\\site-packages\\tqdm\\std.py\", line 1162, in __del__\n",
      "    self.close()\n",
      "  File \"c:\\Users\\Sampath\\AppData\\Local\\Programs\\Python\\Python310\\lib\\site-packages\\tqdm\\notebook.py\", line 287, in close\n",
      "    self.disp(bar_style='danger', check_delay=False)\n",
      "AttributeError: 'tqdm_notebook' object has no attribute 'disp'\n",
      "Exception ignored in: <function tqdm.__del__ at 0x0000029AF8D31A20>\n",
      "Traceback (most recent call last):\n",
      "  File \"c:\\Users\\Sampath\\AppData\\Local\\Programs\\Python\\Python310\\lib\\site-packages\\tqdm\\std.py\", line 1162, in __del__\n",
      "    self.close()\n",
      "  File \"c:\\Users\\Sampath\\AppData\\Local\\Programs\\Python\\Python310\\lib\\site-packages\\tqdm\\notebook.py\", line 287, in close\n",
      "    self.disp(bar_style='danger', check_delay=False)\n",
      "AttributeError: 'tqdm_notebook' object has no attribute 'disp'\n"
     ]
    },
    {
     "data": {
      "text/plain": [
       "<seaborn.axisgrid.PairGrid at 0x29af9263c70>"
      ]
     },
     "execution_count": 113,
     "metadata": {},
     "output_type": "execute_result"
    },
    {
     "data": {
      "image/png": "[encoded data removed]",
      "text/plain": [
       "<Figure size 1500x1500 with 42 Axes>"
      ]
     },
     "metadata": {},
     "output_type": "display_data"
    }
   ],
   "source": [
    "import seaborn as sns \n",
    "\n",
    "sns.pairplot(credit[[\"Income\",\"Limit\",\"Rating\",\"Cards\",\"Age\",\"Student_Yes\"]])"
   ]
  },
  {
   "cell_type": "markdown",
   "metadata": {},
   "source": [
    "### 5. Model Implementation"
   ]
  },
  {
   "cell_type": "code",
   "execution_count": 114,
   "metadata": {},
   "outputs": [],
   "source": [
    "#modeling\n",
    "from sklearn.model_selection import train_test_split\n",
    "\n",
    "X = credit[[\"Income\",\"Limit\",\"Rating\",\"Cards\",\"Age\",\"Student_Yes\"]]\n",
    "y = credit.Balance\n",
    "\n",
    "Xtrain, Xtest, ytrain, ytest = train_test_split(X, y, test_size=0.2)"
   ]
  },
  {
   "cell_type": "code",
   "execution_count": 115,
   "metadata": {},
   "outputs": [
    {
     "data": {
      "text/html": [
       "<style>#sk-container-id-1 {color: black;background-color: white;}#sk-container-id-1 pre{padding: 0;}#sk-container-id-1 div.sk-toggleable {background-color: white;}#sk-container-id-1 label.sk-toggleable__label {cursor: pointer;display: block;width: 100%;margin-bottom: 0;padding: 0.3em;box-sizing: border-box;text-align: center;}#sk-container-id-1 label.sk-toggleable__label-arrow:before {content: \"▸\";float: left;margin-right: 0.25em;color: #696969;}#sk-container-id-1 label.sk-toggleable__label-arrow:hover:before {color: black;}#sk-container-id-1 div.sk-estimator:hover label.sk-toggleable__label-arrow:before {color: black;}#sk-container-id-1 div.sk-toggleable__content {max-height: 0;max-width: 0;overflow: hidden;text-align: left;background-color: #f0f8ff;}#sk-container-id-1 div.sk-toggleable__content pre {margin: 0.2em;color: black;border-radius: 0.25em;background-color: #f0f8ff;}#sk-container-id-1 input.sk-toggleable__control:checked~div.sk-toggleable__content {max-height: 200px;max-width: 100%;overflow: auto;}#sk-container-id-1 input.sk-toggleable__control:checked~label.sk-toggleable__label-arrow:before {content: \"▾\";}#sk-container-id-1 div.sk-estimator input.sk-toggleable__control:checked~label.sk-toggleable__label {background-color: #d4ebff;}#sk-container-id-1 div.sk-label input.sk-toggleable__control:checked~label.sk-toggleable__label {background-color: #d4ebff;}#sk-container-id-1 input.sk-hidden--visually {border: 0;clip: rect(1px 1px 1px 1px);clip: rect(1px, 1px, 1px, 1px);height: 1px;margin: -1px;overflow: hidden;padding: 0;position: absolute;width: 1px;}#sk-container-id-1 div.sk-estimator {font-family: monospace;background-color: #f0f8ff;border: 1px dotted black;border-radius: 0.25em;box-sizing: border-box;margin-bottom: 0.5em;}#sk-container-id-1 div.sk-estimator:hover {background-color: #d4ebff;}#sk-container-id-1 div.sk-parallel-item::after {content: \"\";width: 100%;border-bottom: 1px solid gray;flex-grow: 1;}#sk-container-id-1 div.sk-label:hover label.sk-toggleable__label {background-color: #d4ebff;}#sk-container-id-1 div.sk-serial::before {content: \"\";position: absolute;border-left: 1px solid gray;box-sizing: border-box;top: 0;bottom: 0;left: 50%;z-index: 0;}#sk-container-id-1 div.sk-serial {display: flex;flex-direction: column;align-items: center;background-color: white;padding-right: 0.2em;padding-left: 0.2em;position: relative;}#sk-container-id-1 div.sk-item {position: relative;z-index: 1;}#sk-container-id-1 div.sk-parallel {display: flex;align-items: stretch;justify-content: center;background-color: white;position: relative;}#sk-container-id-1 div.sk-item::before, #sk-container-id-1 div.sk-parallel-item::before {content: \"\";position: absolute;border-left: 1px solid gray;box-sizing: border-box;top: 0;bottom: 0;left: 50%;z-index: -1;}#sk-container-id-1 div.sk-parallel-item {display: flex;flex-direction: column;z-index: 1;position: relative;background-color: white;}#sk-container-id-1 div.sk-parallel-item:first-child::after {align-self: flex-end;width: 50%;}#sk-container-id-1 div.sk-parallel-item:last-child::after {align-self: flex-start;width: 50%;}#sk-container-id-1 div.sk-parallel-item:only-child::after {width: 0;}#sk-container-id-1 div.sk-dashed-wrapped {border: 1px dashed gray;margin: 0 0.4em 0.5em 0.4em;box-sizing: border-box;padding-bottom: 0.4em;background-color: white;}#sk-container-id-1 div.sk-label label {font-family: monospace;font-weight: bold;display: inline-block;line-height: 1.2em;}#sk-container-id-1 div.sk-label-container {text-align: center;}#sk-container-id-1 div.sk-container {/* jupyter's `normalize.less` sets `[hidden] { display: none; }` but bootstrap.min.css set `[hidden] { display: none !important; }` so we also need the `!important` here to be able to override the default hidden behavior on the sphinx rendered scikit-learn.org. See: https://github.com/scikit-learn/scikit-learn/issues/21755 */display: inline-block !important;position: relative;}#sk-container-id-1 div.sk-text-repr-fallback {display: none;}</style><div id=\"sk-container-id-1\" class=\"sk-top-container\"><div class=\"sk-text-repr-fallback\"><pre>LinearRegression()</pre><b>In a Jupyter environment, please rerun this cell to show the HTML representation or trust the notebook. <br />On GitHub, the HTML representation is unable to render, please try loading this page with nbviewer.org.</b></div><div class=\"sk-container\" hidden><div class=\"sk-item\"><div class=\"sk-estimator sk-toggleable\"><input class=\"sk-toggleable__control sk-hidden--visually\" id=\"sk-estimator-id-1\" type=\"checkbox\" checked><label for=\"sk-estimator-id-1\" class=\"sk-toggleable__label sk-toggleable__label-arrow\">LinearRegression</label><div class=\"sk-toggleable__content\"><pre>LinearRegression()</pre></div></div></div></div></div>"
      ],
      "text/plain": [
       "LinearRegression()"
      ]
     },
     "execution_count": 115,
     "metadata": {},
     "output_type": "execute_result"
    }
   ],
   "source": [
    "model = LinearRegression() \n",
    "model.fit(Xtrain,ytrain)  \n",
    "model"
   ]
  },
  {
   "cell_type": "code",
   "execution_count": 116,
   "metadata": {},
   "outputs": [],
   "source": [
    "def adj_r_sqr(Xtrain,ytrain,Xtest,ytest):\n",
    "    model = LinearRegression()  \n",
    "    model.fit(Xtrain,ytrain)\n",
    "    r_2_train = model.score(Xtrain,ytrain)\n",
    "    r_2_test = model.score(Xtest,ytest)\n",
    "    adj_r_2_train =  1 - (1-r_2_train)*(len(ytrain)-1)/(len(ytrain)-Xtrain.shape[1]-1)\n",
    "    adj_r_2_test =  1 - (1-r_2_test)*(len(ytest)-1)/(len(ytest)-Xtest.shape[1]-1)  \n",
    "    return adj_r_2_train,adj_r_2_test"
   ]
  },
  {
   "cell_type": "code",
   "execution_count": 117,
   "metadata": {},
   "outputs": [
    {
     "data": {
      "text/plain": [
       "(0.9531679021639907, 0.9527892790658871)"
      ]
     },
     "execution_count": 117,
     "metadata": {},
     "output_type": "execute_result"
    }
   ],
   "source": [
    "adj_r_sqr(Xtrain,ytrain,Xtest,ytest)"
   ]
  },
  {
   "cell_type": "code",
   "execution_count": 118,
   "metadata": {},
   "outputs": [
    {
     "data": {
      "text/plain": [
       "0.9540487566687432"
      ]
     },
     "execution_count": 118,
     "metadata": {},
     "output_type": "execute_result"
    }
   ],
   "source": [
    "model.score(Xtrain,ytrain)"
   ]
  },
  {
   "cell_type": "code",
   "execution_count": 119,
   "metadata": {},
   "outputs": [
    {
     "data": {
      "text/plain": [
       "0.9563749034406298"
      ]
     },
     "execution_count": 119,
     "metadata": {},
     "output_type": "execute_result"
    }
   ],
   "source": [
    "model.score(Xtest,ytest)"
   ]
  },
  {
   "cell_type": "code",
   "execution_count": 120,
   "metadata": {},
   "outputs": [
    {
     "data": {
      "text/html": [
       "<div>\n",
       "<style scoped>\n",
       "    .dataframe tbody tr th:only-of-type {\n",
       "        vertical-align: middle;\n",
       "    }\n",
       "\n",
       "    .dataframe tbody tr th {\n",
       "        vertical-align: top;\n",
       "    }\n",
       "\n",
       "    .dataframe thead th {\n",
       "        text-align: right;\n",
       "    }\n",
       "</style>\n",
       "<table border=\"1\" class=\"dataframe\">\n",
       "  <thead>\n",
       "    <tr style=\"text-align: right;\">\n",
       "      <th></th>\n",
       "      <th>y</th>\n",
       "      <th>yhat</th>\n",
       "    </tr>\n",
       "  </thead>\n",
       "  <tbody>\n",
       "    <tr>\n",
       "      <th>389</th>\n",
       "      <td>806</td>\n",
       "      <td>776.507117</td>\n",
       "    </tr>\n",
       "    <tr>\n",
       "      <th>18</th>\n",
       "      <td>891</td>\n",
       "      <td>833.770876</td>\n",
       "    </tr>\n",
       "    <tr>\n",
       "      <th>104</th>\n",
       "      <td>745</td>\n",
       "      <td>745.167743</td>\n",
       "    </tr>\n",
       "    <tr>\n",
       "      <th>7</th>\n",
       "      <td>872</td>\n",
       "      <td>868.226879</td>\n",
       "    </tr>\n",
       "    <tr>\n",
       "      <th>199</th>\n",
       "      <td>571</td>\n",
       "      <td>592.291489</td>\n",
       "    </tr>\n",
       "  </tbody>\n",
       "</table>\n",
       "</div>"
      ],
      "text/plain": [
       "       y        yhat\n",
       "389  806  776.507117\n",
       "18   891  833.770876\n",
       "104  745  745.167743\n",
       "7    872  868.226879\n",
       "199  571  592.291489"
      ]
     },
     "execution_count": 120,
     "metadata": {},
     "output_type": "execute_result"
    }
   ],
   "source": [
    "yhat = model.predict(Xtest)\n",
    "results= pd.DataFrame({\"y\":ytest,\"yhat\":yhat})\n",
    "results.head()"
   ]
  },
  {
   "cell_type": "code",
   "execution_count": 121,
   "metadata": {},
   "outputs": [],
   "source": [
    "#load lasso regression\n",
    "from sklearn.linear_model import Lasso, Ridge\n",
    "from sklearn.model_selection import RepeatedKFold\n",
    "from sklearn.model_selection import GridSearchCV"
   ]
  },
  {
   "cell_type": "code",
   "execution_count": 122,
   "metadata": {},
   "outputs": [],
   "source": [
    "from sklearn.preprocessing import StandardScaler\n",
    "scaler = StandardScaler()\n",
    "X = scaler.fit_transform(X)"
   ]
  },
  {
   "cell_type": "code",
   "execution_count": 123,
   "metadata": {},
   "outputs": [
    {
     "data": {
      "text/plain": [
       "array([[-0.86158299, -0.48999879, -0.46553881, -0.6991298 , -1.2576741 ,\n",
       "        -0.33333333],\n",
       "       [ 1.72743711,  0.82826106,  0.82870309,  0.03103187,  1.5284506 ,\n",
       "         3.        ],\n",
       "       [ 1.68675551,  1.01478681,  1.02931059,  0.76119355,  0.88996369,\n",
       "        -0.33333333],\n",
       "       ...,\n",
       "       [ 0.35946155, -0.24491264, -0.21963285,  1.49135522,  0.65778663,\n",
       "        -0.33333333],\n",
       "       [-0.21280808, -0.95891584, -1.05441888, -1.42929148, -0.67723146,\n",
       "        -0.33333333],\n",
       "       [-0.75334493,  0.34199278,  0.38866085,  1.49135522,  0.48365384,\n",
       "        -0.33333333]])"
      ]
     },
     "execution_count": 123,
     "metadata": {},
     "output_type": "execute_result"
    }
   ],
   "source": [
    "X"
   ]
  },
  {
   "cell_type": "code",
   "execution_count": 124,
   "metadata": {},
   "outputs": [],
   "source": [
    "Xtrain, Xtest, ytrain, ytest = train_test_split(X, y, test_size=0.2)"
   ]
  },
  {
   "cell_type": "code",
   "execution_count": 125,
   "metadata": {},
   "outputs": [],
   "source": [
    "def adj_r_sqr_lasso(Xtrain,ytrain,Xtest,ytest):\n",
    "    model = LinearRegression()  \n",
    "    model.fit(Xtrain,ytrain)\n",
    "    r_2_train = model.score(Xtrain,ytrain)\n",
    "    r_2_test = model.score(Xtest,ytest)\n",
    "    adj_r_2_train =  1 - (1-r_2_train)*(len(ytrain)-1)/(len(ytrain)-Xtrain.shape[1]-1)\n",
    "    adj_r_2_test =  1 - (1-r_2_test)*(len(ytest)-1)/(len(ytest)-Xtest.shape[1]-1)  \n",
    "    return adj_r_2_train,adj_r_2_test"
   ]
  },
  {
   "cell_type": "code",
   "execution_count": 126,
   "metadata": {},
   "outputs": [
    {
     "data": {
      "text/plain": [
       "(0.9575956011960628, 0.9281320094245487)"
      ]
     },
     "execution_count": 126,
     "metadata": {},
     "output_type": "execute_result"
    }
   ],
   "source": [
    "adj_r_sqr_lasso(Xtrain,ytrain,Xtest,ytest)"
   ]
  }
 ],
 "metadata": {
  "kernelspec": {
   "display_name": "Python 3.10.6 64-bit",
   "language": "python",
   "name": "python3"
  },
  "language_info": {
   "codemirror_mode": {
    "name": "ipython",
    "version": 3
   },
   "file_extension": ".py",
   "mimetype": "text/x-python",
   "name": "python",
   "nbconvert_exporter": "python",
   "pygments_lexer": "ipython3",
   "version": "3.10.6"
  },
  "orig_nbformat": 4,
  "vscode": {
   "interpreter": {
    "hash": "b317895cf65311fbae6965972ca6466a5816a4dcb988784ceba152b4d57e4b8d"
   }
  }
 },
 "nbformat": 4,
 "nbformat_minor": 2
}
